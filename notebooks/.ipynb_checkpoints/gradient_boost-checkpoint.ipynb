{
 "cells": [
  {
   "cell_type": "code",
   "execution_count": 3,
   "metadata": {},
   "outputs": [],
   "source": [
    "import numpy as np\n",
    "import pandas as pd\n",
    "from sklearn.model_selection import train_test_split\n",
    "from sklearn import preprocessing\n",
    "from sklearn.ensemble import RandomForestClassifier\n",
    "from sklearn.pipeline import make_pipeline\n",
    "from sklearn.model_selection import GridSearchCV\n",
    "from sklearn.metrics import mean_squared_error, r2_score\n",
    "from sklearn.metrics import roc_curve, precision_recall_curve, auc, make_scorer, recall_score, accuracy_score, precision_score, confusion_matrix"
   ]
  },
  {
   "cell_type": "code",
   "execution_count": 9,
   "metadata": {},
   "outputs": [],
   "source": [
    "import matplotlib.pyplot as plt\n",
    "plt.style.use(\"ggplot\")\n",
    "\n",
    "df = pd.read_csv(\"../data/clean_one_hot_emp_data.csv\")\n",
    "df.drop(df.columns[0], axis=1,inplace=True)"
   ]
  },
  {
   "cell_type": "code",
   "execution_count": 3,
   "metadata": {},
   "outputs": [
    {
     "data": {
      "text/html": [
       "<div>\n",
       "<style scoped>\n",
       "    .dataframe tbody tr th:only-of-type {\n",
       "        vertical-align: middle;\n",
       "    }\n",
       "\n",
       "    .dataframe tbody tr th {\n",
       "        vertical-align: top;\n",
       "    }\n",
       "\n",
       "    .dataframe thead th {\n",
       "        text-align: right;\n",
       "    }\n",
       "</style>\n",
       "<table border=\"1\" class=\"dataframe\">\n",
       "  <thead>\n",
       "    <tr style=\"text-align: right;\">\n",
       "      <th></th>\n",
       "      <th>age</th>\n",
       "      <th>attrition</th>\n",
       "      <th>business_travel</th>\n",
       "      <th>daily_rate</th>\n",
       "      <th>distance_from_home</th>\n",
       "      <th>education</th>\n",
       "      <th>environment_satisfaction</th>\n",
       "      <th>gender</th>\n",
       "      <th>hourly_rate</th>\n",
       "      <th>job_involvement</th>\n",
       "      <th>...</th>\n",
       "      <th>job_role_sales representative</th>\n",
       "      <th>department_research &amp; development</th>\n",
       "      <th>department_sales</th>\n",
       "      <th>education_field_life sciences</th>\n",
       "      <th>education_field_marketing</th>\n",
       "      <th>education_field_medical</th>\n",
       "      <th>education_field_other</th>\n",
       "      <th>education_field_technical degree</th>\n",
       "      <th>marital_status_married</th>\n",
       "      <th>marital_status_single</th>\n",
       "    </tr>\n",
       "  </thead>\n",
       "  <tbody>\n",
       "    <tr>\n",
       "      <th>0</th>\n",
       "      <td>41</td>\n",
       "      <td>1</td>\n",
       "      <td>1</td>\n",
       "      <td>1102</td>\n",
       "      <td>1</td>\n",
       "      <td>2</td>\n",
       "      <td>2</td>\n",
       "      <td>0</td>\n",
       "      <td>94</td>\n",
       "      <td>3</td>\n",
       "      <td>...</td>\n",
       "      <td>0</td>\n",
       "      <td>0</td>\n",
       "      <td>1</td>\n",
       "      <td>1</td>\n",
       "      <td>0</td>\n",
       "      <td>0</td>\n",
       "      <td>0</td>\n",
       "      <td>0</td>\n",
       "      <td>0</td>\n",
       "      <td>1</td>\n",
       "    </tr>\n",
       "    <tr>\n",
       "      <th>1</th>\n",
       "      <td>49</td>\n",
       "      <td>0</td>\n",
       "      <td>2</td>\n",
       "      <td>279</td>\n",
       "      <td>8</td>\n",
       "      <td>1</td>\n",
       "      <td>3</td>\n",
       "      <td>1</td>\n",
       "      <td>61</td>\n",
       "      <td>2</td>\n",
       "      <td>...</td>\n",
       "      <td>0</td>\n",
       "      <td>1</td>\n",
       "      <td>0</td>\n",
       "      <td>1</td>\n",
       "      <td>0</td>\n",
       "      <td>0</td>\n",
       "      <td>0</td>\n",
       "      <td>0</td>\n",
       "      <td>1</td>\n",
       "      <td>0</td>\n",
       "    </tr>\n",
       "    <tr>\n",
       "      <th>2</th>\n",
       "      <td>37</td>\n",
       "      <td>1</td>\n",
       "      <td>1</td>\n",
       "      <td>1373</td>\n",
       "      <td>2</td>\n",
       "      <td>2</td>\n",
       "      <td>4</td>\n",
       "      <td>1</td>\n",
       "      <td>92</td>\n",
       "      <td>2</td>\n",
       "      <td>...</td>\n",
       "      <td>0</td>\n",
       "      <td>1</td>\n",
       "      <td>0</td>\n",
       "      <td>0</td>\n",
       "      <td>0</td>\n",
       "      <td>0</td>\n",
       "      <td>1</td>\n",
       "      <td>0</td>\n",
       "      <td>0</td>\n",
       "      <td>1</td>\n",
       "    </tr>\n",
       "    <tr>\n",
       "      <th>3</th>\n",
       "      <td>33</td>\n",
       "      <td>0</td>\n",
       "      <td>2</td>\n",
       "      <td>1392</td>\n",
       "      <td>3</td>\n",
       "      <td>4</td>\n",
       "      <td>4</td>\n",
       "      <td>0</td>\n",
       "      <td>56</td>\n",
       "      <td>3</td>\n",
       "      <td>...</td>\n",
       "      <td>0</td>\n",
       "      <td>1</td>\n",
       "      <td>0</td>\n",
       "      <td>1</td>\n",
       "      <td>0</td>\n",
       "      <td>0</td>\n",
       "      <td>0</td>\n",
       "      <td>0</td>\n",
       "      <td>1</td>\n",
       "      <td>0</td>\n",
       "    </tr>\n",
       "    <tr>\n",
       "      <th>4</th>\n",
       "      <td>27</td>\n",
       "      <td>0</td>\n",
       "      <td>1</td>\n",
       "      <td>591</td>\n",
       "      <td>2</td>\n",
       "      <td>1</td>\n",
       "      <td>1</td>\n",
       "      <td>1</td>\n",
       "      <td>40</td>\n",
       "      <td>3</td>\n",
       "      <td>...</td>\n",
       "      <td>0</td>\n",
       "      <td>1</td>\n",
       "      <td>0</td>\n",
       "      <td>0</td>\n",
       "      <td>0</td>\n",
       "      <td>1</td>\n",
       "      <td>0</td>\n",
       "      <td>0</td>\n",
       "      <td>1</td>\n",
       "      <td>0</td>\n",
       "    </tr>\n",
       "  </tbody>\n",
       "</table>\n",
       "<p>5 rows × 44 columns</p>\n",
       "</div>"
      ],
      "text/plain": [
       "   age  attrition  business_travel  daily_rate  distance_from_home  education  \\\n",
       "0   41          1                1        1102                   1          2   \n",
       "1   49          0                2         279                   8          1   \n",
       "2   37          1                1        1373                   2          2   \n",
       "3   33          0                2        1392                   3          4   \n",
       "4   27          0                1         591                   2          1   \n",
       "\n",
       "   environment_satisfaction  gender  hourly_rate  job_involvement  ...  \\\n",
       "0                         2       0           94                3  ...   \n",
       "1                         3       1           61                2  ...   \n",
       "2                         4       1           92                2  ...   \n",
       "3                         4       0           56                3  ...   \n",
       "4                         1       1           40                3  ...   \n",
       "\n",
       "   job_role_sales representative  department_research & development  \\\n",
       "0                              0                                  0   \n",
       "1                              0                                  1   \n",
       "2                              0                                  1   \n",
       "3                              0                                  1   \n",
       "4                              0                                  1   \n",
       "\n",
       "   department_sales  education_field_life sciences  education_field_marketing  \\\n",
       "0                 1                              1                          0   \n",
       "1                 0                              1                          0   \n",
       "2                 0                              0                          0   \n",
       "3                 0                              1                          0   \n",
       "4                 0                              0                          0   \n",
       "\n",
       "   education_field_medical  education_field_other  \\\n",
       "0                        0                      0   \n",
       "1                        0                      0   \n",
       "2                        0                      1   \n",
       "3                        0                      0   \n",
       "4                        1                      0   \n",
       "\n",
       "   education_field_technical degree  marital_status_married  \\\n",
       "0                                 0                       0   \n",
       "1                                 0                       1   \n",
       "2                                 0                       0   \n",
       "3                                 0                       1   \n",
       "4                                 0                       1   \n",
       "\n",
       "   marital_status_single  \n",
       "0                      1  \n",
       "1                      0  \n",
       "2                      1  \n",
       "3                      0  \n",
       "4                      0  \n",
       "\n",
       "[5 rows x 44 columns]"
      ]
     },
     "execution_count": 3,
     "metadata": {},
     "output_type": "execute_result"
    }
   ],
   "source": [
    "df.head()"
   ]
  },
  {
   "cell_type": "code",
   "execution_count": 4,
   "metadata": {},
   "outputs": [],
   "source": [
    "from sklearn.ensemble import GradientBoostingClassifier\n",
    "from sklearn.metrics import classification_report, confusion_matrix"
   ]
  },
  {
   "cell_type": "code",
   "execution_count": 5,
   "metadata": {},
   "outputs": [],
   "source": [
    "gb = GradientBoostingClassifier(random_state = 42)"
   ]
  },
  {
   "cell_type": "code",
   "execution_count": 10,
   "metadata": {},
   "outputs": [],
   "source": [
    "y = df.attrition\n",
    "X = df.drop('attrition',axis=1)"
   ]
  },
  {
   "cell_type": "code",
   "execution_count": 11,
   "metadata": {},
   "outputs": [
    {
     "data": {
      "text/plain": [
       "StandardScaler()"
      ]
     },
     "execution_count": 11,
     "metadata": {},
     "output_type": "execute_result"
    }
   ],
   "source": [
    "X_train, X_test, y_train, y_test = train_test_split(X, y, random_state=42)\n",
    "from sklearn.preprocessing import StandardScaler \n",
    "scaler = StandardScaler()\n",
    "scaler.fit(X_train)"
   ]
  },
  {
   "cell_type": "code",
   "execution_count": 8,
   "metadata": {},
   "outputs": [
    {
     "data": {
      "text/plain": [
       "GradientBoostingClassifier(random_state=42)"
      ]
     },
     "execution_count": 8,
     "metadata": {},
     "output_type": "execute_result"
    }
   ],
   "source": [
    "gb.fit(X_train, y_train)"
   ]
  },
  {
   "cell_type": "code",
   "execution_count": 9,
   "metadata": {},
   "outputs": [],
   "source": [
    "y_pred = gb.predict(X_test)"
   ]
  },
  {
   "cell_type": "code",
   "execution_count": 10,
   "metadata": {},
   "outputs": [
    {
     "name": "stdout",
     "output_type": "stream",
     "text": [
      "The confusion Matrix : \n",
      " [[311   9]\n",
      " [ 33  15]]\n"
     ]
    }
   ],
   "source": [
    "cm = confusion_matrix(y_test, y_pred)\n",
    "print('The confusion Matrix : \\n',cm)"
   ]
  },
  {
   "cell_type": "code",
   "execution_count": 11,
   "metadata": {},
   "outputs": [
    {
     "data": {
      "text/plain": [
       "array([311,   9,  33,  15])"
      ]
     },
     "execution_count": 11,
     "metadata": {},
     "output_type": "execute_result"
    }
   ],
   "source": [
    "cm.ravel()"
   ]
  },
  {
   "cell_type": "code",
   "execution_count": 12,
   "metadata": {},
   "outputs": [],
   "source": [
    "from sklearn.metrics import accuracy_score, confusion_matrix,roc_curve, roc_auc_score, precision_score, recall_score, precision_recall_curve\n"
   ]
  },
  {
   "cell_type": "code",
   "execution_count": 13,
   "metadata": {},
   "outputs": [
    {
     "name": "stdout",
     "output_type": "stream",
     "text": [
      "Accuracy Score: 0.8858695652173914\n",
      "Confusion Matrix: \n",
      "[[311   9]\n",
      " [ 33  15]]\n",
      "Area Under Curve: 0.6421875\n",
      "Recall score: 0.3125\n"
     ]
    }
   ],
   "source": [
    "print(f'Accuracy Score: {accuracy_score(y_test,y_pred)}')\n",
    "print(f'Confusion Matrix: \\n{confusion_matrix(y_test, y_pred)}')\n",
    "print(f'Area Under Curve: {roc_auc_score(y_test, y_pred)}')\n",
    "print(f'Recall score: {recall_score(y_test,y_pred)}')"
   ]
  },
  {
   "cell_type": "code",
   "execution_count": 14,
   "metadata": {},
   "outputs": [
    {
     "data": {
      "text/html": [
       "<div>\n",
       "<style scoped>\n",
       "    .dataframe tbody tr th:only-of-type {\n",
       "        vertical-align: middle;\n",
       "    }\n",
       "\n",
       "    .dataframe tbody tr th {\n",
       "        vertical-align: top;\n",
       "    }\n",
       "\n",
       "    .dataframe thead th {\n",
       "        text-align: right;\n",
       "    }\n",
       "</style>\n",
       "<table border=\"1\" class=\"dataframe\">\n",
       "  <thead>\n",
       "    <tr style=\"text-align: right;\">\n",
       "      <th></th>\n",
       "      <th>age</th>\n",
       "      <th>attrition</th>\n",
       "      <th>business_travel</th>\n",
       "      <th>daily_rate</th>\n",
       "      <th>distance_from_home</th>\n",
       "      <th>education</th>\n",
       "      <th>environment_satisfaction</th>\n",
       "      <th>gender</th>\n",
       "      <th>hourly_rate</th>\n",
       "      <th>job_involvement</th>\n",
       "      <th>...</th>\n",
       "      <th>job_role_sales representative</th>\n",
       "      <th>department_research &amp; development</th>\n",
       "      <th>department_sales</th>\n",
       "      <th>education_field_life sciences</th>\n",
       "      <th>education_field_marketing</th>\n",
       "      <th>education_field_medical</th>\n",
       "      <th>education_field_other</th>\n",
       "      <th>education_field_technical degree</th>\n",
       "      <th>marital_status_married</th>\n",
       "      <th>marital_status_single</th>\n",
       "    </tr>\n",
       "  </thead>\n",
       "  <tbody>\n",
       "    <tr>\n",
       "      <th>count</th>\n",
       "      <td>1470.000000</td>\n",
       "      <td>1470.000000</td>\n",
       "      <td>1470.000000</td>\n",
       "      <td>1470.000000</td>\n",
       "      <td>1470.000000</td>\n",
       "      <td>1470.000000</td>\n",
       "      <td>1470.000000</td>\n",
       "      <td>1470.000000</td>\n",
       "      <td>1470.000000</td>\n",
       "      <td>1470.000000</td>\n",
       "      <td>...</td>\n",
       "      <td>1470.000000</td>\n",
       "      <td>1470.000000</td>\n",
       "      <td>1470.000000</td>\n",
       "      <td>1470.000000</td>\n",
       "      <td>1470.000000</td>\n",
       "      <td>1470.000000</td>\n",
       "      <td>1470.000000</td>\n",
       "      <td>1470.000000</td>\n",
       "      <td>1470.000000</td>\n",
       "      <td>1470.000000</td>\n",
       "    </tr>\n",
       "    <tr>\n",
       "      <th>mean</th>\n",
       "      <td>36.923810</td>\n",
       "      <td>0.161224</td>\n",
       "      <td>1.086395</td>\n",
       "      <td>802.485714</td>\n",
       "      <td>9.192517</td>\n",
       "      <td>2.912925</td>\n",
       "      <td>2.721769</td>\n",
       "      <td>0.600000</td>\n",
       "      <td>65.891156</td>\n",
       "      <td>2.729932</td>\n",
       "      <td>...</td>\n",
       "      <td>0.056463</td>\n",
       "      <td>0.653741</td>\n",
       "      <td>0.303401</td>\n",
       "      <td>0.412245</td>\n",
       "      <td>0.108163</td>\n",
       "      <td>0.315646</td>\n",
       "      <td>0.055782</td>\n",
       "      <td>0.089796</td>\n",
       "      <td>0.457823</td>\n",
       "      <td>0.319728</td>\n",
       "    </tr>\n",
       "    <tr>\n",
       "      <th>std</th>\n",
       "      <td>9.135373</td>\n",
       "      <td>0.367863</td>\n",
       "      <td>0.532170</td>\n",
       "      <td>403.509100</td>\n",
       "      <td>8.106864</td>\n",
       "      <td>1.024165</td>\n",
       "      <td>1.093082</td>\n",
       "      <td>0.490065</td>\n",
       "      <td>20.329428</td>\n",
       "      <td>0.711561</td>\n",
       "      <td>...</td>\n",
       "      <td>0.230891</td>\n",
       "      <td>0.475939</td>\n",
       "      <td>0.459884</td>\n",
       "      <td>0.492406</td>\n",
       "      <td>0.310692</td>\n",
       "      <td>0.464931</td>\n",
       "      <td>0.229579</td>\n",
       "      <td>0.285986</td>\n",
       "      <td>0.498387</td>\n",
       "      <td>0.466530</td>\n",
       "    </tr>\n",
       "    <tr>\n",
       "      <th>min</th>\n",
       "      <td>18.000000</td>\n",
       "      <td>0.000000</td>\n",
       "      <td>0.000000</td>\n",
       "      <td>102.000000</td>\n",
       "      <td>1.000000</td>\n",
       "      <td>1.000000</td>\n",
       "      <td>1.000000</td>\n",
       "      <td>0.000000</td>\n",
       "      <td>30.000000</td>\n",
       "      <td>1.000000</td>\n",
       "      <td>...</td>\n",
       "      <td>0.000000</td>\n",
       "      <td>0.000000</td>\n",
       "      <td>0.000000</td>\n",
       "      <td>0.000000</td>\n",
       "      <td>0.000000</td>\n",
       "      <td>0.000000</td>\n",
       "      <td>0.000000</td>\n",
       "      <td>0.000000</td>\n",
       "      <td>0.000000</td>\n",
       "      <td>0.000000</td>\n",
       "    </tr>\n",
       "    <tr>\n",
       "      <th>25%</th>\n",
       "      <td>30.000000</td>\n",
       "      <td>0.000000</td>\n",
       "      <td>1.000000</td>\n",
       "      <td>465.000000</td>\n",
       "      <td>2.000000</td>\n",
       "      <td>2.000000</td>\n",
       "      <td>2.000000</td>\n",
       "      <td>0.000000</td>\n",
       "      <td>48.000000</td>\n",
       "      <td>2.000000</td>\n",
       "      <td>...</td>\n",
       "      <td>0.000000</td>\n",
       "      <td>0.000000</td>\n",
       "      <td>0.000000</td>\n",
       "      <td>0.000000</td>\n",
       "      <td>0.000000</td>\n",
       "      <td>0.000000</td>\n",
       "      <td>0.000000</td>\n",
       "      <td>0.000000</td>\n",
       "      <td>0.000000</td>\n",
       "      <td>0.000000</td>\n",
       "    </tr>\n",
       "    <tr>\n",
       "      <th>50%</th>\n",
       "      <td>36.000000</td>\n",
       "      <td>0.000000</td>\n",
       "      <td>1.000000</td>\n",
       "      <td>802.000000</td>\n",
       "      <td>7.000000</td>\n",
       "      <td>3.000000</td>\n",
       "      <td>3.000000</td>\n",
       "      <td>1.000000</td>\n",
       "      <td>66.000000</td>\n",
       "      <td>3.000000</td>\n",
       "      <td>...</td>\n",
       "      <td>0.000000</td>\n",
       "      <td>1.000000</td>\n",
       "      <td>0.000000</td>\n",
       "      <td>0.000000</td>\n",
       "      <td>0.000000</td>\n",
       "      <td>0.000000</td>\n",
       "      <td>0.000000</td>\n",
       "      <td>0.000000</td>\n",
       "      <td>0.000000</td>\n",
       "      <td>0.000000</td>\n",
       "    </tr>\n",
       "    <tr>\n",
       "      <th>75%</th>\n",
       "      <td>43.000000</td>\n",
       "      <td>0.000000</td>\n",
       "      <td>1.000000</td>\n",
       "      <td>1157.000000</td>\n",
       "      <td>14.000000</td>\n",
       "      <td>4.000000</td>\n",
       "      <td>4.000000</td>\n",
       "      <td>1.000000</td>\n",
       "      <td>83.750000</td>\n",
       "      <td>3.000000</td>\n",
       "      <td>...</td>\n",
       "      <td>0.000000</td>\n",
       "      <td>1.000000</td>\n",
       "      <td>1.000000</td>\n",
       "      <td>1.000000</td>\n",
       "      <td>0.000000</td>\n",
       "      <td>1.000000</td>\n",
       "      <td>0.000000</td>\n",
       "      <td>0.000000</td>\n",
       "      <td>1.000000</td>\n",
       "      <td>1.000000</td>\n",
       "    </tr>\n",
       "    <tr>\n",
       "      <th>max</th>\n",
       "      <td>60.000000</td>\n",
       "      <td>1.000000</td>\n",
       "      <td>2.000000</td>\n",
       "      <td>1499.000000</td>\n",
       "      <td>29.000000</td>\n",
       "      <td>5.000000</td>\n",
       "      <td>4.000000</td>\n",
       "      <td>1.000000</td>\n",
       "      <td>100.000000</td>\n",
       "      <td>4.000000</td>\n",
       "      <td>...</td>\n",
       "      <td>1.000000</td>\n",
       "      <td>1.000000</td>\n",
       "      <td>1.000000</td>\n",
       "      <td>1.000000</td>\n",
       "      <td>1.000000</td>\n",
       "      <td>1.000000</td>\n",
       "      <td>1.000000</td>\n",
       "      <td>1.000000</td>\n",
       "      <td>1.000000</td>\n",
       "      <td>1.000000</td>\n",
       "    </tr>\n",
       "  </tbody>\n",
       "</table>\n",
       "<p>8 rows × 44 columns</p>\n",
       "</div>"
      ],
      "text/plain": [
       "               age    attrition  business_travel   daily_rate  \\\n",
       "count  1470.000000  1470.000000      1470.000000  1470.000000   \n",
       "mean     36.923810     0.161224         1.086395   802.485714   \n",
       "std       9.135373     0.367863         0.532170   403.509100   \n",
       "min      18.000000     0.000000         0.000000   102.000000   \n",
       "25%      30.000000     0.000000         1.000000   465.000000   \n",
       "50%      36.000000     0.000000         1.000000   802.000000   \n",
       "75%      43.000000     0.000000         1.000000  1157.000000   \n",
       "max      60.000000     1.000000         2.000000  1499.000000   \n",
       "\n",
       "       distance_from_home    education  environment_satisfaction       gender  \\\n",
       "count         1470.000000  1470.000000               1470.000000  1470.000000   \n",
       "mean             9.192517     2.912925                  2.721769     0.600000   \n",
       "std              8.106864     1.024165                  1.093082     0.490065   \n",
       "min              1.000000     1.000000                  1.000000     0.000000   \n",
       "25%              2.000000     2.000000                  2.000000     0.000000   \n",
       "50%              7.000000     3.000000                  3.000000     1.000000   \n",
       "75%             14.000000     4.000000                  4.000000     1.000000   \n",
       "max             29.000000     5.000000                  4.000000     1.000000   \n",
       "\n",
       "       hourly_rate  job_involvement  ...  job_role_sales representative  \\\n",
       "count  1470.000000      1470.000000  ...                    1470.000000   \n",
       "mean     65.891156         2.729932  ...                       0.056463   \n",
       "std      20.329428         0.711561  ...                       0.230891   \n",
       "min      30.000000         1.000000  ...                       0.000000   \n",
       "25%      48.000000         2.000000  ...                       0.000000   \n",
       "50%      66.000000         3.000000  ...                       0.000000   \n",
       "75%      83.750000         3.000000  ...                       0.000000   \n",
       "max     100.000000         4.000000  ...                       1.000000   \n",
       "\n",
       "       department_research & development  department_sales  \\\n",
       "count                        1470.000000       1470.000000   \n",
       "mean                            0.653741          0.303401   \n",
       "std                             0.475939          0.459884   \n",
       "min                             0.000000          0.000000   \n",
       "25%                             0.000000          0.000000   \n",
       "50%                             1.000000          0.000000   \n",
       "75%                             1.000000          1.000000   \n",
       "max                             1.000000          1.000000   \n",
       "\n",
       "       education_field_life sciences  education_field_marketing  \\\n",
       "count                    1470.000000                1470.000000   \n",
       "mean                        0.412245                   0.108163   \n",
       "std                         0.492406                   0.310692   \n",
       "min                         0.000000                   0.000000   \n",
       "25%                         0.000000                   0.000000   \n",
       "50%                         0.000000                   0.000000   \n",
       "75%                         1.000000                   0.000000   \n",
       "max                         1.000000                   1.000000   \n",
       "\n",
       "       education_field_medical  education_field_other  \\\n",
       "count              1470.000000            1470.000000   \n",
       "mean                  0.315646               0.055782   \n",
       "std                   0.464931               0.229579   \n",
       "min                   0.000000               0.000000   \n",
       "25%                   0.000000               0.000000   \n",
       "50%                   0.000000               0.000000   \n",
       "75%                   1.000000               0.000000   \n",
       "max                   1.000000               1.000000   \n",
       "\n",
       "       education_field_technical degree  marital_status_married  \\\n",
       "count                       1470.000000             1470.000000   \n",
       "mean                           0.089796                0.457823   \n",
       "std                            0.285986                0.498387   \n",
       "min                            0.000000                0.000000   \n",
       "25%                            0.000000                0.000000   \n",
       "50%                            0.000000                0.000000   \n",
       "75%                            0.000000                1.000000   \n",
       "max                            1.000000                1.000000   \n",
       "\n",
       "       marital_status_single  \n",
       "count            1470.000000  \n",
       "mean                0.319728  \n",
       "std                 0.466530  \n",
       "min                 0.000000  \n",
       "25%                 0.000000  \n",
       "50%                 0.000000  \n",
       "75%                 1.000000  \n",
       "max                 1.000000  \n",
       "\n",
       "[8 rows x 44 columns]"
      ]
     },
     "execution_count": 14,
     "metadata": {},
     "output_type": "execute_result"
    }
   ],
   "source": [
    "df.describe()"
   ]
  },
  {
   "cell_type": "code",
   "execution_count": 15,
   "metadata": {},
   "outputs": [
    {
     "data": {
      "text/plain": [
       "{'n_estimators': 1000,\n",
       " 'min_samples_split': 2,\n",
       " 'min_samples_leaf': 1,\n",
       " 'max_depth': 1,\n",
       " 'learning_rate': 0.1}"
      ]
     },
     "execution_count": 15,
     "metadata": {},
     "output_type": "execute_result"
    }
   ],
   "source": [
    "from sklearn.model_selection import RandomizedSearchCV\n",
    "from sklearn.ensemble import GradientBoostingClassifier\n",
    "import numpy as np\n",
    "import pandas as pd\n",
    "from sklearn.model_selection import train_test_split\n",
    "from sklearn import preprocessing\n",
    "from sklearn.ensemble import RandomForestClassifier\n",
    "from sklearn.pipeline import make_pipeline\n",
    "from sklearn.model_selection import GridSearchCV\n",
    "from sklearn.metrics import mean_squared_error, r2_score\n",
    "from sklearn.metrics import roc_curve, precision_recall_curve, auc, make_scorer, recall_score, accuracy_score, precision_score, confusion_matrix\n",
    "\n",
    "import matplotlib.pyplot as plt\n",
    "plt.style.use(\"ggplot\")\n",
    "\n",
    "df = pd.read_csv(\"../data/clean_one_hot_emp_data.csv\")\n",
    "df.drop(df.columns[0], axis=1,inplace=True)\n",
    "\n",
    "y = df.attrition\n",
    "X = df.drop('attrition',axis=1)\n",
    "\n",
    "X_train, X_test, y_train, y_test = train_test_split(X, y, random_state=42)\n",
    "\n",
    "num_estimators = [100, 200,500,1000]\n",
    "learn_rates = [0.01, 0.05, 0.10]\n",
    "max_depths = [1, 2, 3]\n",
    "min_samples_leaf = [1, 5,10]\n",
    "min_samples_split = [2, 5,10]\n",
    "\n",
    "param_grid = {'n_estimators': num_estimators,\n",
    "              'learning_rate': learn_rates,\n",
    "              'max_depth': max_depths,\n",
    "              'min_samples_leaf': min_samples_leaf,\n",
    "              'min_samples_split': min_samples_split}\n",
    "\n",
    "gb = GradientBoostingClassifier(random_state=42)\n",
    "\n",
    "gb_random_search = RandomizedSearchCV(gb, param_distributions = param_grid, random_state=42)\n",
    "\n",
    "gb_random_search.fit(X_train, y_train)\n",
    "\n",
    "gb_random_search.best_params_"
   ]
  },
  {
   "cell_type": "code",
   "execution_count": 5,
   "metadata": {},
   "outputs": [],
   "source": [
    "gb_optimal = GradientBoostingClassifier(n_estimators= 1000, min_samples_split = 2, min_samples_leaf = 1,\n",
    "                                         max_depth = 1, learning_rate = 0.1)"
   ]
  },
  {
   "cell_type": "code",
   "execution_count": 6,
   "metadata": {},
   "outputs": [
    {
     "ename": "NameError",
     "evalue": "name 'X_train' is not defined",
     "output_type": "error",
     "traceback": [
      "\u001b[0;31m---------------------------------------------------------------------------\u001b[0m",
      "\u001b[0;31mNameError\u001b[0m                                 Traceback (most recent call last)",
      "\u001b[0;32m<ipython-input-6-25d5febbc441>\u001b[0m in \u001b[0;36m<module>\u001b[0;34m\u001b[0m\n\u001b[1;32m      1\u001b[0m \u001b[0;32mfrom\u001b[0m \u001b[0msklearn\u001b[0m\u001b[0;34m.\u001b[0m\u001b[0mpreprocessing\u001b[0m \u001b[0;32mimport\u001b[0m \u001b[0mStandardScaler\u001b[0m\u001b[0;34m\u001b[0m\u001b[0;34m\u001b[0m\u001b[0m\n\u001b[1;32m      2\u001b[0m \u001b[0mscaler\u001b[0m \u001b[0;34m=\u001b[0m \u001b[0mStandardScaler\u001b[0m\u001b[0;34m(\u001b[0m\u001b[0;34m)\u001b[0m\u001b[0;34m\u001b[0m\u001b[0;34m\u001b[0m\u001b[0m\n\u001b[0;32m----> 3\u001b[0;31m \u001b[0mscaler\u001b[0m\u001b[0;34m.\u001b[0m\u001b[0mfit\u001b[0m\u001b[0;34m(\u001b[0m\u001b[0mX_train\u001b[0m\u001b[0;34m)\u001b[0m\u001b[0;34m\u001b[0m\u001b[0;34m\u001b[0m\u001b[0m\n\u001b[0m",
      "\u001b[0;31mNameError\u001b[0m: name 'X_train' is not defined"
     ]
    }
   ],
   "source": [
    "from sklearn.preprocessing import StandardScaler \n",
    "scaler = StandardScaler()\n",
    "scaler.fit(X_train)"
   ]
  },
  {
   "cell_type": "code",
   "execution_count": 12,
   "metadata": {},
   "outputs": [
    {
     "data": {
      "text/plain": [
       "GradientBoostingClassifier(max_depth=1, n_estimators=1000)"
      ]
     },
     "execution_count": 12,
     "metadata": {},
     "output_type": "execute_result"
    }
   ],
   "source": [
    "gb_optimal.fit(X_train, y_train)"
   ]
  },
  {
   "cell_type": "code",
   "execution_count": 13,
   "metadata": {},
   "outputs": [],
   "source": [
    "y_pred = gb_optimal.predict(X_test)"
   ]
  },
  {
   "cell_type": "code",
   "execution_count": 14,
   "metadata": {},
   "outputs": [
    {
     "name": "stdout",
     "output_type": "stream",
     "text": [
      "The confusion Matrix : \n",
      " [[306  14]\n",
      " [ 30  18]]\n"
     ]
    }
   ],
   "source": [
    "from sklearn.metrics import accuracy_score, confusion_matrix,roc_curve, roc_auc_score, precision_score, recall_score, precision_recall_curve\n",
    "\n",
    "cm = confusion_matrix(y_test, y_pred)\n",
    "print('The confusion Matrix : \\n',cm)"
   ]
  },
  {
   "cell_type": "code",
   "execution_count": 15,
   "metadata": {},
   "outputs": [
    {
     "name": "stdout",
     "output_type": "stream",
     "text": [
      "Accuracy Score: 0.8804347826086957\n",
      "Confusion Matrix: \n",
      "[[306  14]\n",
      " [ 30  18]]\n",
      "Area Under Curve: 0.665625\n",
      "Recall score: 0.375\n"
     ]
    }
   ],
   "source": [
    "print(f'Accuracy Score: {accuracy_score(y_test,y_pred)}')\n",
    "print(f'Confusion Matrix: \\n{confusion_matrix(y_test, y_pred)}')\n",
    "print(f'Area Under Curve: {roc_auc_score(y_test, y_pred)}')\n",
    "print(f'Recall score: {recall_score(y_test,y_pred)}')"
   ]
  },
  {
   "cell_type": "code",
   "execution_count": 22,
   "metadata": {},
   "outputs": [
    {
     "data": {
      "text/plain": [
       "1041    0\n",
       "184     0\n",
       "1222    1\n",
       "67      0\n",
       "220     0\n",
       "       ..\n",
       "571     0\n",
       "1163    0\n",
       "243     0\n",
       "1411    0\n",
       "1370    0\n",
       "Name: attrition, Length: 368, dtype: int64"
      ]
     },
     "execution_count": 22,
     "metadata": {},
     "output_type": "execute_result"
    }
   ],
   "source": [
    "y_test"
   ]
  },
  {
   "cell_type": "code",
   "execution_count": 23,
   "metadata": {},
   "outputs": [
    {
     "data": {
      "text/plain": [
       "count    368.000000\n",
       "mean       0.130435\n",
       "std        0.337240\n",
       "min        0.000000\n",
       "25%        0.000000\n",
       "50%        0.000000\n",
       "75%        0.000000\n",
       "max        1.000000\n",
       "Name: attrition, dtype: float64"
      ]
     },
     "execution_count": 23,
     "metadata": {},
     "output_type": "execute_result"
    }
   ],
   "source": [
    "y_test.describe()"
   ]
  },
  {
   "cell_type": "code",
   "execution_count": 24,
   "metadata": {},
   "outputs": [],
   "source": [
    "y_test = pd.Series(y_test)"
   ]
  },
  {
   "cell_type": "code",
   "execution_count": 25,
   "metadata": {},
   "outputs": [
    {
     "data": {
      "text/plain": [
       "0    320\n",
       "1     48\n",
       "Name: attrition, dtype: int64"
      ]
     },
     "execution_count": 25,
     "metadata": {},
     "output_type": "execute_result"
    }
   ],
   "source": [
    "y_test.value_counts()"
   ]
  },
  {
   "cell_type": "code",
   "execution_count": 26,
   "metadata": {},
   "outputs": [
    {
     "data": {
      "text/html": [
       "<div>\n",
       "<style scoped>\n",
       "    .dataframe tbody tr th:only-of-type {\n",
       "        vertical-align: middle;\n",
       "    }\n",
       "\n",
       "    .dataframe tbody tr th {\n",
       "        vertical-align: top;\n",
       "    }\n",
       "\n",
       "    .dataframe thead th {\n",
       "        text-align: right;\n",
       "    }\n",
       "</style>\n",
       "<table border=\"1\" class=\"dataframe\">\n",
       "  <thead>\n",
       "    <tr style=\"text-align: right;\">\n",
       "      <th></th>\n",
       "      <th>age</th>\n",
       "      <th>attrition</th>\n",
       "      <th>business_travel</th>\n",
       "      <th>daily_rate</th>\n",
       "      <th>distance_from_home</th>\n",
       "      <th>education</th>\n",
       "      <th>environment_satisfaction</th>\n",
       "      <th>gender</th>\n",
       "      <th>hourly_rate</th>\n",
       "      <th>job_involvement</th>\n",
       "      <th>...</th>\n",
       "      <th>job_role_sales representative</th>\n",
       "      <th>department_research &amp; development</th>\n",
       "      <th>department_sales</th>\n",
       "      <th>education_field_life sciences</th>\n",
       "      <th>education_field_marketing</th>\n",
       "      <th>education_field_medical</th>\n",
       "      <th>education_field_other</th>\n",
       "      <th>education_field_technical degree</th>\n",
       "      <th>marital_status_married</th>\n",
       "      <th>marital_status_single</th>\n",
       "    </tr>\n",
       "  </thead>\n",
       "  <tbody>\n",
       "    <tr>\n",
       "      <th>0</th>\n",
       "      <td>41</td>\n",
       "      <td>1</td>\n",
       "      <td>1</td>\n",
       "      <td>1102</td>\n",
       "      <td>1</td>\n",
       "      <td>2</td>\n",
       "      <td>2</td>\n",
       "      <td>0</td>\n",
       "      <td>94</td>\n",
       "      <td>3</td>\n",
       "      <td>...</td>\n",
       "      <td>0</td>\n",
       "      <td>0</td>\n",
       "      <td>1</td>\n",
       "      <td>1</td>\n",
       "      <td>0</td>\n",
       "      <td>0</td>\n",
       "      <td>0</td>\n",
       "      <td>0</td>\n",
       "      <td>0</td>\n",
       "      <td>1</td>\n",
       "    </tr>\n",
       "    <tr>\n",
       "      <th>1</th>\n",
       "      <td>49</td>\n",
       "      <td>0</td>\n",
       "      <td>2</td>\n",
       "      <td>279</td>\n",
       "      <td>8</td>\n",
       "      <td>1</td>\n",
       "      <td>3</td>\n",
       "      <td>1</td>\n",
       "      <td>61</td>\n",
       "      <td>2</td>\n",
       "      <td>...</td>\n",
       "      <td>0</td>\n",
       "      <td>1</td>\n",
       "      <td>0</td>\n",
       "      <td>1</td>\n",
       "      <td>0</td>\n",
       "      <td>0</td>\n",
       "      <td>0</td>\n",
       "      <td>0</td>\n",
       "      <td>1</td>\n",
       "      <td>0</td>\n",
       "    </tr>\n",
       "    <tr>\n",
       "      <th>2</th>\n",
       "      <td>37</td>\n",
       "      <td>1</td>\n",
       "      <td>1</td>\n",
       "      <td>1373</td>\n",
       "      <td>2</td>\n",
       "      <td>2</td>\n",
       "      <td>4</td>\n",
       "      <td>1</td>\n",
       "      <td>92</td>\n",
       "      <td>2</td>\n",
       "      <td>...</td>\n",
       "      <td>0</td>\n",
       "      <td>1</td>\n",
       "      <td>0</td>\n",
       "      <td>0</td>\n",
       "      <td>0</td>\n",
       "      <td>0</td>\n",
       "      <td>1</td>\n",
       "      <td>0</td>\n",
       "      <td>0</td>\n",
       "      <td>1</td>\n",
       "    </tr>\n",
       "    <tr>\n",
       "      <th>3</th>\n",
       "      <td>33</td>\n",
       "      <td>0</td>\n",
       "      <td>2</td>\n",
       "      <td>1392</td>\n",
       "      <td>3</td>\n",
       "      <td>4</td>\n",
       "      <td>4</td>\n",
       "      <td>0</td>\n",
       "      <td>56</td>\n",
       "      <td>3</td>\n",
       "      <td>...</td>\n",
       "      <td>0</td>\n",
       "      <td>1</td>\n",
       "      <td>0</td>\n",
       "      <td>1</td>\n",
       "      <td>0</td>\n",
       "      <td>0</td>\n",
       "      <td>0</td>\n",
       "      <td>0</td>\n",
       "      <td>1</td>\n",
       "      <td>0</td>\n",
       "    </tr>\n",
       "    <tr>\n",
       "      <th>4</th>\n",
       "      <td>27</td>\n",
       "      <td>0</td>\n",
       "      <td>1</td>\n",
       "      <td>591</td>\n",
       "      <td>2</td>\n",
       "      <td>1</td>\n",
       "      <td>1</td>\n",
       "      <td>1</td>\n",
       "      <td>40</td>\n",
       "      <td>3</td>\n",
       "      <td>...</td>\n",
       "      <td>0</td>\n",
       "      <td>1</td>\n",
       "      <td>0</td>\n",
       "      <td>0</td>\n",
       "      <td>0</td>\n",
       "      <td>1</td>\n",
       "      <td>0</td>\n",
       "      <td>0</td>\n",
       "      <td>1</td>\n",
       "      <td>0</td>\n",
       "    </tr>\n",
       "  </tbody>\n",
       "</table>\n",
       "<p>5 rows × 44 columns</p>\n",
       "</div>"
      ],
      "text/plain": [
       "   age  attrition  business_travel  daily_rate  distance_from_home  education  \\\n",
       "0   41          1                1        1102                   1          2   \n",
       "1   49          0                2         279                   8          1   \n",
       "2   37          1                1        1373                   2          2   \n",
       "3   33          0                2        1392                   3          4   \n",
       "4   27          0                1         591                   2          1   \n",
       "\n",
       "   environment_satisfaction  gender  hourly_rate  job_involvement  ...  \\\n",
       "0                         2       0           94                3  ...   \n",
       "1                         3       1           61                2  ...   \n",
       "2                         4       1           92                2  ...   \n",
       "3                         4       0           56                3  ...   \n",
       "4                         1       1           40                3  ...   \n",
       "\n",
       "   job_role_sales representative  department_research & development  \\\n",
       "0                              0                                  0   \n",
       "1                              0                                  1   \n",
       "2                              0                                  1   \n",
       "3                              0                                  1   \n",
       "4                              0                                  1   \n",
       "\n",
       "   department_sales  education_field_life sciences  education_field_marketing  \\\n",
       "0                 1                              1                          0   \n",
       "1                 0                              1                          0   \n",
       "2                 0                              0                          0   \n",
       "3                 0                              1                          0   \n",
       "4                 0                              0                          0   \n",
       "\n",
       "   education_field_medical  education_field_other  \\\n",
       "0                        0                      0   \n",
       "1                        0                      0   \n",
       "2                        0                      1   \n",
       "3                        0                      0   \n",
       "4                        1                      0   \n",
       "\n",
       "   education_field_technical degree  marital_status_married  \\\n",
       "0                                 0                       0   \n",
       "1                                 0                       1   \n",
       "2                                 0                       0   \n",
       "3                                 0                       1   \n",
       "4                                 0                       1   \n",
       "\n",
       "   marital_status_single  \n",
       "0                      1  \n",
       "1                      0  \n",
       "2                      1  \n",
       "3                      0  \n",
       "4                      0  \n",
       "\n",
       "[5 rows x 44 columns]"
      ]
     },
     "execution_count": 26,
     "metadata": {},
     "output_type": "execute_result"
    }
   ],
   "source": [
    "df.head()"
   ]
  },
  {
   "cell_type": "code",
   "execution_count": 27,
   "metadata": {},
   "outputs": [
    {
     "data": {
      "text/plain": [
       "0    1233\n",
       "1     237\n",
       "Name: attrition, dtype: int64"
      ]
     },
     "execution_count": 27,
     "metadata": {},
     "output_type": "execute_result"
    }
   ],
   "source": [
    "df.attrition.value_counts()"
   ]
  },
  {
   "cell_type": "code",
   "execution_count": 28,
   "metadata": {},
   "outputs": [
    {
     "data": {
      "text/plain": [
       "array([0, 0, 1, 0, 0, 0, 0, 0, 0, 0, 0, 0, 0, 0, 0, 0, 0, 0, 0, 0, 0, 0,\n",
       "       0, 0, 0, 0, 0, 0, 0, 0, 0, 0, 0, 0, 0, 0, 0, 1, 1, 0, 0, 0, 0, 0,\n",
       "       1, 0, 1, 1, 0, 1, 0, 0, 0, 0, 0, 0, 0, 0, 0, 0, 0, 1, 0, 0, 1, 0,\n",
       "       0, 0, 0, 0, 0, 0, 0, 0, 0, 0, 0, 0, 1, 0, 0, 0, 0, 0, 0, 0, 0, 0,\n",
       "       0, 0, 0, 0, 0, 0, 0, 0, 0, 0, 0, 0, 0, 0, 0, 0, 0, 0, 0, 0, 0, 0,\n",
       "       1, 0, 0, 0, 1, 0, 0, 0, 0, 0, 0, 0, 0, 0, 0, 1, 0, 0, 0, 0, 0, 0,\n",
       "       1, 0, 0, 0, 0, 1, 0, 0, 1, 0, 0, 0, 0, 0, 0, 1, 0, 0, 0, 0, 0, 0,\n",
       "       1, 0, 0, 0, 0, 0, 0, 0, 0, 0, 0, 1, 0, 0, 0, 0, 0, 0, 0, 0, 0, 0,\n",
       "       0, 0, 0, 1, 0, 0, 0, 0, 0, 0, 0, 0, 0, 0, 0, 1, 1, 0, 0, 0, 0, 0,\n",
       "       0, 0, 0, 0, 0, 0, 0, 0, 0, 0, 0, 0, 0, 0, 0, 0, 0, 0, 0, 0, 1, 0,\n",
       "       0, 0, 0, 1, 0, 1, 0, 0, 0, 0, 1, 0, 0, 0, 0, 0, 0, 0, 0, 0, 1, 0,\n",
       "       0, 0, 0, 0, 0, 0, 0, 0, 0, 0, 1, 0, 0, 0, 0, 0, 0, 0, 0, 0, 0, 0,\n",
       "       0, 0, 0, 0, 0, 0, 0, 0, 0, 1, 0, 0, 0, 0, 0, 0, 0, 0, 0, 0, 0, 0,\n",
       "       0, 0, 0, 0, 0, 0, 0, 0, 1, 0, 0, 0, 0, 0, 0, 0, 0, 0, 0, 0, 0, 0,\n",
       "       0, 1, 0, 0, 0, 0, 0, 0, 0, 0, 0, 0, 0, 0, 0, 0, 0, 0, 0, 0, 0, 0,\n",
       "       0, 0, 0, 0, 0, 0, 0, 0, 0, 0, 0, 0, 0, 0, 0, 0, 0, 0, 0, 0, 0, 0,\n",
       "       0, 0, 0, 0, 0, 0, 0, 0, 0, 1, 0, 0, 0, 0, 0, 0])"
      ]
     },
     "execution_count": 28,
     "metadata": {},
     "output_type": "execute_result"
    }
   ],
   "source": [
    "y_pred"
   ]
  },
  {
   "cell_type": "code",
   "execution_count": 29,
   "metadata": {},
   "outputs": [],
   "source": [
    "tn, fp, fn, tp = confusion_matrix(y_test, y_pred, labels=[0,1]).ravel()"
   ]
  },
  {
   "cell_type": "code",
   "execution_count": 30,
   "metadata": {},
   "outputs": [
    {
     "data": {
      "text/plain": [
       "306"
      ]
     },
     "execution_count": 30,
     "metadata": {},
     "output_type": "execute_result"
    }
   ],
   "source": [
    "tn"
   ]
  },
  {
   "cell_type": "code",
   "execution_count": 31,
   "metadata": {},
   "outputs": [
    {
     "data": {
      "text/plain": [
       "14"
      ]
     },
     "execution_count": 31,
     "metadata": {},
     "output_type": "execute_result"
    }
   ],
   "source": [
    "fp"
   ]
  },
  {
   "cell_type": "code",
   "execution_count": 32,
   "metadata": {},
   "outputs": [
    {
     "data": {
      "text/plain": [
       "30"
      ]
     },
     "execution_count": 32,
     "metadata": {},
     "output_type": "execute_result"
    }
   ],
   "source": [
    "fn"
   ]
  },
  {
   "cell_type": "code",
   "execution_count": 33,
   "metadata": {},
   "outputs": [
    {
     "data": {
      "text/plain": [
       "18"
      ]
     },
     "execution_count": 33,
     "metadata": {},
     "output_type": "execute_result"
    }
   ],
   "source": [
    "tp"
   ]
  },
  {
   "cell_type": "code",
   "execution_count": 34,
   "metadata": {},
   "outputs": [
    {
     "name": "stdout",
     "output_type": "stream",
     "text": [
      "18 14 30 306\n"
     ]
    }
   ],
   "source": [
    "print(tp,fp,fn,tn)"
   ]
  },
  {
   "cell_type": "code",
   "execution_count": 1,
   "metadata": {},
   "outputs": [
    {
     "ename": "NameError",
     "evalue": "name 'thresh_list_new' is not defined",
     "output_type": "error",
     "traceback": [
      "\u001b[0;31m---------------------------------------------------------------------------\u001b[0m",
      "\u001b[0;31mNameError\u001b[0m                                 Traceback (most recent call last)",
      "\u001b[0;32m<ipython-input-1-d1830c867bd2>\u001b[0m in \u001b[0;36m<module>\u001b[0;34m\u001b[0m\n\u001b[0;32m----> 1\u001b[0;31m \u001b[0mprint\u001b[0m\u001b[0;34m(\u001b[0m\u001b[0mthresh_list_new\u001b[0m\u001b[0;34m)\u001b[0m\u001b[0;34m\u001b[0m\u001b[0;34m\u001b[0m\u001b[0m\n\u001b[0m",
      "\u001b[0;31mNameError\u001b[0m: name 'thresh_list_new' is not defined"
     ]
    }
   ],
   "source": [
    "print(thresh_list_new)"
   ]
  },
  {
   "cell_type": "code",
   "execution_count": 16,
   "metadata": {},
   "outputs": [
    {
     "name": "stdout",
     "output_type": "stream",
     "text": [
      "[[ 53 267]\n",
      " [  2  46]]\n",
      "[[ 99 221]\n",
      " [  3  45]]\n",
      "[[118 202]\n",
      " [  4  44]]\n",
      "[[132 188]\n",
      " [  4  44]]\n",
      "[[154 166]\n",
      " [  6  42]]\n",
      "[[172 148]\n",
      " [  7  41]]\n",
      "[[181 139]\n",
      " [  7  41]]\n",
      "[[196 124]\n",
      " [  8  40]]\n",
      "[[206 114]\n",
      " [  8  40]]\n",
      "[[210 110]\n",
      " [  8  40]]\n",
      "[[221  99]\n",
      " [  9  39]]\n",
      "[[230  90]\n",
      " [ 10  38]]\n",
      "[[232  88]\n",
      " [ 11  37]]\n",
      "[[239  81]\n",
      " [ 12  36]]\n",
      "[[240  80]\n",
      " [ 13  35]]\n",
      "[[244  76]\n",
      " [ 13  35]]\n",
      "[[249  71]\n",
      " [ 13  35]]\n",
      "[[254  66]\n",
      " [ 13  35]]\n",
      "[[254  66]\n",
      " [ 13  35]]\n",
      "[[256  64]\n",
      " [ 15  33]]\n",
      "[[258  62]\n",
      " [ 16  32]]\n",
      "[[262  58]\n",
      " [ 16  32]]\n",
      "[[264  56]\n",
      " [ 17  31]]\n",
      "[[267  53]\n",
      " [ 17  31]]\n",
      "[[270  50]\n",
      " [ 17  31]]\n",
      "[[272  48]\n",
      " [ 19  29]]\n",
      "[[276  44]\n",
      " [ 20  28]]\n",
      "[[278  42]\n",
      " [ 23  25]]\n",
      "[[280  40]\n",
      " [ 23  25]]\n",
      "[[280  40]\n",
      " [ 23  25]]\n",
      "[[282  38]\n",
      " [ 24  24]]\n",
      "[[283  37]\n",
      " [ 24  24]]\n",
      "[[285  35]\n",
      " [ 25  23]]\n",
      "[[289  31]\n",
      " [ 25  23]]\n",
      "[[294  26]\n",
      " [ 25  23]]\n",
      "[[294  26]\n",
      " [ 25  23]]\n",
      "[[296  24]\n",
      " [ 25  23]]\n",
      "[[296  24]\n",
      " [ 25  23]]\n",
      "[[299  21]\n",
      " [ 26  22]]\n",
      "[[300  20]\n",
      " [ 26  22]]\n",
      "[[300  20]\n",
      " [ 26  22]]\n",
      "[[302  18]\n",
      " [ 27  21]]\n",
      "[[302  18]\n",
      " [ 27  21]]\n",
      "[[302  18]\n",
      " [ 27  21]]\n",
      "[[303  17]\n",
      " [ 27  21]]\n",
      "[[305  15]\n",
      " [ 27  21]]\n",
      "[[305  15]\n",
      " [ 27  21]]\n",
      "[[306  14]\n",
      " [ 29  19]]\n",
      "[[306  14]\n",
      " [ 29  19]]\n",
      "[[306  14]\n",
      " [ 30  18]]\n",
      "[[307  13]\n",
      " [ 30  18]]\n",
      "[[307  13]\n",
      " [ 30  18]]\n",
      "[[307  13]\n",
      " [ 31  17]]\n",
      "[[308  12]\n",
      " [ 31  17]]\n",
      "[[309  11]\n",
      " [ 31  17]]\n",
      "[[309  11]\n",
      " [ 31  17]]\n",
      "[[310  10]\n",
      " [ 32  16]]\n",
      "[[312   8]\n",
      " [ 34  14]]\n",
      "[[313   7]\n",
      " [ 34  14]]\n",
      "[[314   6]\n",
      " [ 36  12]]\n",
      "[[314   6]\n",
      " [ 36  12]]\n",
      "[[315   5]\n",
      " [ 36  12]]\n",
      "[[315   5]\n",
      " [ 38  10]]\n",
      "[[315   5]\n",
      " [ 38  10]]\n",
      "[[315   5]\n",
      " [ 38  10]]\n",
      "[[315   5]\n",
      " [ 39   9]]\n",
      "[[315   5]\n",
      " [ 40   8]]\n",
      "[[315   5]\n",
      " [ 40   8]]\n",
      "[[315   5]\n",
      " [ 40   8]]\n",
      "[[316   4]\n",
      " [ 40   8]]\n",
      "[[317   3]\n",
      " [ 41   7]]\n",
      "[[318   2]\n",
      " [ 41   7]]\n",
      "[[318   2]\n",
      " [ 41   7]]\n",
      "[[318   2]\n",
      " [ 41   7]]\n",
      "[[318   2]\n",
      " [ 43   5]]\n",
      "[[318   2]\n",
      " [ 43   5]]\n",
      "[[318   2]\n",
      " [ 43   5]]\n",
      "[[319   1]\n",
      " [ 43   5]]\n",
      "[[319   1]\n",
      " [ 43   5]]\n",
      "[[319   1]\n",
      " [ 45   3]]\n",
      "[[319   1]\n",
      " [ 46   2]]\n",
      "[[320   0]\n",
      " [ 46   2]]\n",
      "[[320   0]\n",
      " [ 46   2]]\n",
      "[[320   0]\n",
      " [ 46   2]]\n",
      "[[320   0]\n",
      " [ 46   2]]\n",
      "[[320   0]\n",
      " [ 47   1]]\n",
      "[[320   0]\n",
      " [ 47   1]]\n",
      "[[320   0]\n",
      " [ 47   1]]\n",
      "[[320   0]\n",
      " [ 47   1]]\n",
      "[[320   0]\n",
      " [ 47   1]]\n",
      "[[320   0]\n",
      " [ 47   1]]\n",
      "[[320   0]\n",
      " [ 47   1]]\n",
      "[[320   0]\n",
      " [ 47   1]]\n",
      "[[320   0]\n",
      " [ 47   1]]\n",
      "[[320   0]\n",
      " [ 47   1]]\n",
      "[[320   0]\n",
      " [ 48   0]]\n",
      "[[320   0]\n",
      " [ 48   0]]\n",
      "[[320   0]\n",
      " [ 48   0]]\n",
      "[[320   0]\n",
      " [ 48   0]]\n",
      "[[320   0]\n",
      " [ 48   0]]\n"
     ]
    }
   ],
   "source": [
    "import numpy as np\n",
    "thresh_list_new = np.linspace(.01,1,100)\n",
    "\n",
    "cm_list = []\n",
    "for i in thresh_list_new:\n",
    "    y_pred = gb_optimal.predict_proba(X_test)[:, 1] > i\n",
    "    print(confusion_matrix(y_test, y_pred))\n",
    "    cm_list.append((confusion_matrix(y_test, y_pred)[0][1], confusion_matrix(y_test, y_pred)[1][0], confusion_matrix(y_test,y_pred)[1][1]))"
   ]
  },
  {
   "cell_type": "code",
   "execution_count": 17,
   "metadata": {},
   "outputs": [],
   "source": [
    "#THIS IS COST BENEFIT MATRIX THAT KAYLA AND I PUT TOGETHER 5k (TP), 5k (FP) and 30k (FN)\n",
    "profit_list = []\n",
    "for i in range(len(cm_list)):\n",
    "    profit = (cm_list[i][2]*-7000) + (cm_list[i][1]*-25000) + (cm_list[i][0]*-7000)\n",
    "    profit_list.append(profit)"
   ]
  },
  {
   "cell_type": "code",
   "execution_count": 18,
   "metadata": {},
   "outputs": [
    {
     "name": "stdout",
     "output_type": "stream",
     "text": [
      "[(267, 2, 46), (221, 3, 45), (202, 4, 44), (188, 4, 44), (166, 6, 42), (148, 7, 41), (139, 7, 41), (124, 8, 40), (114, 8, 40), (110, 8, 40), (99, 9, 39), (90, 10, 38), (88, 11, 37), (81, 12, 36), (80, 13, 35), (76, 13, 35), (71, 13, 35), (66, 13, 35), (66, 13, 35), (64, 15, 33), (62, 16, 32), (58, 16, 32), (56, 17, 31), (53, 17, 31), (50, 17, 31), (48, 19, 29), (44, 20, 28), (42, 23, 25), (40, 23, 25), (40, 23, 25), (38, 24, 24), (37, 24, 24), (35, 25, 23), (31, 25, 23), (26, 25, 23), (26, 25, 23), (24, 25, 23), (24, 25, 23), (21, 26, 22), (20, 26, 22), (20, 26, 22), (18, 27, 21), (18, 27, 21), (18, 27, 21), (17, 27, 21), (15, 27, 21), (15, 27, 21), (14, 29, 19), (14, 29, 19), (14, 30, 18), (13, 30, 18), (13, 30, 18), (13, 31, 17), (12, 31, 17), (11, 31, 17), (11, 31, 17), (10, 32, 16), (8, 34, 14), (7, 34, 14), (6, 36, 12), (6, 36, 12), (5, 36, 12), (5, 38, 10), (5, 38, 10), (5, 38, 10), (5, 39, 9), (5, 40, 8), (5, 40, 8), (5, 40, 8), (4, 40, 8), (3, 41, 7), (2, 41, 7), (2, 41, 7), (2, 41, 7), (2, 43, 5), (2, 43, 5), (2, 43, 5), (1, 43, 5), (1, 43, 5), (1, 45, 3), (1, 46, 2), (0, 46, 2), (0, 46, 2), (0, 46, 2), (0, 46, 2), (0, 47, 1), (0, 47, 1), (0, 47, 1), (0, 47, 1), (0, 47, 1), (0, 47, 1), (0, 47, 1), (0, 47, 1), (0, 47, 1), (0, 47, 1), (0, 48, 0), (0, 48, 0), (0, 48, 0), (0, 48, 0), (0, 48, 0)]\n"
     ]
    }
   ],
   "source": [
    "print(cm_list)\n",
    "# (tn, fp, fn, tp)"
   ]
  },
  {
   "cell_type": "code",
   "execution_count": 19,
   "metadata": {},
   "outputs": [],
   "source": [
    "results = zip(thresh_list_new, profit_list)"
   ]
  },
  {
   "cell_type": "code",
   "execution_count": 20,
   "metadata": {},
   "outputs": [
    {
     "data": {
      "text/plain": [
       "[(0.01, -2241000),\n",
       " (0.02, -1937000),\n",
       " (0.03, -1822000),\n",
       " (0.04, -1724000),\n",
       " (0.05, -1606000),\n",
       " (0.060000000000000005, -1498000),\n",
       " (0.06999999999999999, -1435000),\n",
       " (0.08, -1348000),\n",
       " (0.09, -1278000),\n",
       " (0.09999999999999999, -1250000),\n",
       " (0.11, -1191000),\n",
       " (0.12, -1146000),\n",
       " (0.13, -1150000),\n",
       " (0.14, -1119000),\n",
       " (0.15000000000000002, -1130000),\n",
       " (0.16, -1102000),\n",
       " (0.17, -1067000),\n",
       " (0.18000000000000002, -1032000),\n",
       " (0.19, -1032000),\n",
       " (0.2, -1054000),\n",
       " (0.21000000000000002, -1058000),\n",
       " (0.22, -1030000),\n",
       " (0.23, -1034000),\n",
       " (0.24000000000000002, -1013000),\n",
       " (0.25, -992000),\n",
       " (0.26, -1014000),\n",
       " (0.27, -1004000),\n",
       " (0.28, -1044000),\n",
       " (0.29000000000000004, -1030000),\n",
       " (0.3, -1030000),\n",
       " (0.31, -1034000),\n",
       " (0.32, -1027000),\n",
       " (0.33, -1031000),\n",
       " (0.34, -1003000),\n",
       " (0.35000000000000003, -968000),\n",
       " (0.36000000000000004, -968000),\n",
       " (0.37, -954000),\n",
       " (0.38, -954000),\n",
       " (0.39, -951000),\n",
       " (0.4, -944000),\n",
       " (0.41000000000000003, -944000),\n",
       " (0.42000000000000004, -948000),\n",
       " (0.43, -948000),\n",
       " (0.44, -948000),\n",
       " (0.45, -941000),\n",
       " (0.46, -927000),\n",
       " (0.47000000000000003, -927000),\n",
       " (0.48000000000000004, -956000),\n",
       " (0.49, -956000),\n",
       " (0.5, -974000),\n",
       " (0.51, -967000),\n",
       " (0.52, -967000),\n",
       " (0.53, -985000),\n",
       " (0.54, -978000),\n",
       " (0.55, -971000),\n",
       " (0.56, -971000),\n",
       " (0.5700000000000001, -982000),\n",
       " (0.5800000000000001, -1004000),\n",
       " (0.59, -997000),\n",
       " (0.6, -1026000),\n",
       " (0.61, -1026000),\n",
       " (0.62, -1019000),\n",
       " (0.63, -1055000),\n",
       " (0.64, -1055000),\n",
       " (0.65, -1055000),\n",
       " (0.66, -1073000),\n",
       " (0.67, -1091000),\n",
       " (0.68, -1091000),\n",
       " (0.6900000000000001, -1091000),\n",
       " (0.7000000000000001, -1084000),\n",
       " (0.7100000000000001, -1095000),\n",
       " (0.72, -1088000),\n",
       " (0.73, -1088000),\n",
       " (0.74, -1088000),\n",
       " (0.75, -1124000),\n",
       " (0.76, -1124000),\n",
       " (0.77, -1124000),\n",
       " (0.78, -1117000),\n",
       " (0.79, -1117000),\n",
       " (0.8, -1153000),\n",
       " (0.81, -1171000),\n",
       " (0.8200000000000001, -1164000),\n",
       " (0.8300000000000001, -1164000),\n",
       " (0.8400000000000001, -1164000),\n",
       " (0.85, -1164000),\n",
       " (0.86, -1182000),\n",
       " (0.87, -1182000),\n",
       " (0.88, -1182000),\n",
       " (0.89, -1182000),\n",
       " (0.9, -1182000),\n",
       " (0.91, -1182000),\n",
       " (0.92, -1182000),\n",
       " (0.93, -1182000),\n",
       " (0.9400000000000001, -1182000),\n",
       " (0.9500000000000001, -1182000),\n",
       " (0.9600000000000001, -1200000),\n",
       " (0.97, -1200000),\n",
       " (0.98, -1200000),\n",
       " (0.99, -1200000),\n",
       " (1.0, -1200000)]"
      ]
     },
     "execution_count": 20,
     "metadata": {},
     "output_type": "execute_result"
    }
   ],
   "source": [
    "list(results)"
   ]
  },
  {
   "cell_type": "code",
   "execution_count": 24,
   "metadata": {},
   "outputs": [
    {
     "data": {
      "image/png": "[encoded data removed]",
      "text/plain": [
       "<Figure size 864x576 with 1 Axes>"
      ]
     },
     "metadata": {},
     "output_type": "display_data"
    }
   ],
   "source": [
    "plt.style.use('ggplot')\n",
    "fig, ax = plt.subplots(figsize=(12,8))\n",
    "ax.set_title(\"Cost Benefit Matrix Analysis\")\n",
    "ax.set_xlabel('Employee Leave Probability Threshold')\n",
    "ax.set_ylabel('Cost in USD (1M Scale)')\n",
    "ax.plot(thresh_list_new, profit_list)\n",
    "plt.axvline(x=0.465, color='k', ls='--')\n",
    "# ax.set_ylim(-8415000, -200000, 100000)\n",
    "plt.show()"
   ]
  },
  {
   "cell_type": "code",
   "execution_count": null,
   "metadata": {},
   "outputs": [],
   "source": [
    "df.head()"
   ]
  },
  {
   "cell_type": "code",
   "execution_count": null,
   "metadata": {},
   "outputs": [],
   "source": [
    "gb_optimal = GradientBoostingClassifier(n_estimators= 1000, min_samples_split = 2, min_samples_leaf = 1,\n",
    "                                         max_depth = 1, learning_rate = 0.1)"
   ]
  },
  {
   "cell_type": "code",
   "execution_count": null,
   "metadata": {},
   "outputs": [],
   "source": [
    "from sklearn.preprocessing import StandardScaler \n",
    "scaler = StandardScaler()\n",
    "scaler.fit(X_train)"
   ]
  },
  {
   "cell_type": "code",
   "execution_count": null,
   "metadata": {},
   "outputs": [],
   "source": [
    "gb_optimal.fit(X_train, y_train)"
   ]
  },
  {
   "cell_type": "code",
   "execution_count": null,
   "metadata": {},
   "outputs": [],
   "source": [
    "y_pred = gb_optimal.predict(X_test)"
   ]
  },
  {
   "cell_type": "code",
   "execution_count": null,
   "metadata": {},
   "outputs": [],
   "source": [
    "importances = gb_optimal.feature_importances_\n",
    "indices = np.argsort(importances)[::-1] # Sort feature importances in descending order\n",
    "names = [X_train.columns[i] for i in indices] # Rearrange feature names so they match the sorted feature importances\n",
    "plt.figure(figsize=(15, 7)) # Create plot\n",
    "plt.title(\"Feature Importance\") # Create plot title\n",
    "plt.bar(range(X_train.shape[1]), importances[indices]) # Add bars\n",
    "plt.xticks(range(X_train.shape[1]), names, rotation=90) # Add feature names as x-axis labels\n",
    "plt.show() # Show plot"
   ]
  },
  {
   "cell_type": "code",
   "execution_count": null,
   "metadata": {},
   "outputs": [],
   "source": []
  }
 ],
 "metadata": {
  "kernelspec": {
   "display_name": "Python 3",
   "language": "python",
   "name": "python3"
  },
  "language_info": {
   "codemirror_mode": {
    "name": "ipython",
    "version": 3
   },
   "file_extension": ".py",
   "mimetype": "text/x-python",
   "name": "python",
   "nbconvert_exporter": "python",
   "pygments_lexer": "ipython3",
   "version": "3.7.9"
  }
 },
 "nbformat": 4,
 "nbformat_minor": 4
}
