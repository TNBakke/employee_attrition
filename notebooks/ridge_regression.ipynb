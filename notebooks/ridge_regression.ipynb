{
 "cells": [
  {
   "cell_type": "code",
   "execution_count": 2,
   "metadata": {},
   "outputs": [],
   "source": [
    "import matplotlib.pyplot as plt\n",
    "import numpy as np \n",
    "import pandas as pd\n",
    "import matplotlib\n",
    "matplotlib.rcParams.update({'font.size': 16})\n",
    "from sklearn.model_selection import train_test_split\n",
    "from sklearn.linear_model import LinearRegression\n",
    "from sklearn.linear_model import Ridge\n",
    "from sklearn.linear_model import Lasso\n",
    "from sklearn.preprocessing import StandardScaler "
   ]
  },
  {
   "cell_type": "code",
   "execution_count": 4,
   "metadata": {},
   "outputs": [],
   "source": [
    "df = pd.read_csv(\"../data/clean_one_hot_emp_data.csv\")\n",
    "df.drop(df.columns[0], axis=1,inplace=True)"
   ]
  },
  {
   "cell_type": "code",
   "execution_count": 5,
   "metadata": {},
   "outputs": [
    {
     "data": {
      "text/html": [
       "<div>\n",
       "<style scoped>\n",
       "    .dataframe tbody tr th:only-of-type {\n",
       "        vertical-align: middle;\n",
       "    }\n",
       "\n",
       "    .dataframe tbody tr th {\n",
       "        vertical-align: top;\n",
       "    }\n",
       "\n",
       "    .dataframe thead th {\n",
       "        text-align: right;\n",
       "    }\n",
       "</style>\n",
       "<table border=\"1\" class=\"dataframe\">\n",
       "  <thead>\n",
       "    <tr style=\"text-align: right;\">\n",
       "      <th></th>\n",
       "      <th>age</th>\n",
       "      <th>attrition</th>\n",
       "      <th>business_travel</th>\n",
       "      <th>daily_rate</th>\n",
       "      <th>distance_from_home</th>\n",
       "      <th>education</th>\n",
       "      <th>environment_satisfaction</th>\n",
       "      <th>gender</th>\n",
       "      <th>hourly_rate</th>\n",
       "      <th>job_involvement</th>\n",
       "      <th>...</th>\n",
       "      <th>job_role_sales representative</th>\n",
       "      <th>department_research &amp; development</th>\n",
       "      <th>department_sales</th>\n",
       "      <th>education_field_life sciences</th>\n",
       "      <th>education_field_marketing</th>\n",
       "      <th>education_field_medical</th>\n",
       "      <th>education_field_other</th>\n",
       "      <th>education_field_technical degree</th>\n",
       "      <th>marital_status_married</th>\n",
       "      <th>marital_status_single</th>\n",
       "    </tr>\n",
       "  </thead>\n",
       "  <tbody>\n",
       "    <tr>\n",
       "      <th>0</th>\n",
       "      <td>41</td>\n",
       "      <td>1</td>\n",
       "      <td>1</td>\n",
       "      <td>1102</td>\n",
       "      <td>1</td>\n",
       "      <td>2</td>\n",
       "      <td>2</td>\n",
       "      <td>0</td>\n",
       "      <td>94</td>\n",
       "      <td>3</td>\n",
       "      <td>...</td>\n",
       "      <td>0</td>\n",
       "      <td>0</td>\n",
       "      <td>1</td>\n",
       "      <td>1</td>\n",
       "      <td>0</td>\n",
       "      <td>0</td>\n",
       "      <td>0</td>\n",
       "      <td>0</td>\n",
       "      <td>0</td>\n",
       "      <td>1</td>\n",
       "    </tr>\n",
       "    <tr>\n",
       "      <th>1</th>\n",
       "      <td>49</td>\n",
       "      <td>0</td>\n",
       "      <td>2</td>\n",
       "      <td>279</td>\n",
       "      <td>8</td>\n",
       "      <td>1</td>\n",
       "      <td>3</td>\n",
       "      <td>1</td>\n",
       "      <td>61</td>\n",
       "      <td>2</td>\n",
       "      <td>...</td>\n",
       "      <td>0</td>\n",
       "      <td>1</td>\n",
       "      <td>0</td>\n",
       "      <td>1</td>\n",
       "      <td>0</td>\n",
       "      <td>0</td>\n",
       "      <td>0</td>\n",
       "      <td>0</td>\n",
       "      <td>1</td>\n",
       "      <td>0</td>\n",
       "    </tr>\n",
       "    <tr>\n",
       "      <th>2</th>\n",
       "      <td>37</td>\n",
       "      <td>1</td>\n",
       "      <td>1</td>\n",
       "      <td>1373</td>\n",
       "      <td>2</td>\n",
       "      <td>2</td>\n",
       "      <td>4</td>\n",
       "      <td>1</td>\n",
       "      <td>92</td>\n",
       "      <td>2</td>\n",
       "      <td>...</td>\n",
       "      <td>0</td>\n",
       "      <td>1</td>\n",
       "      <td>0</td>\n",
       "      <td>0</td>\n",
       "      <td>0</td>\n",
       "      <td>0</td>\n",
       "      <td>1</td>\n",
       "      <td>0</td>\n",
       "      <td>0</td>\n",
       "      <td>1</td>\n",
       "    </tr>\n",
       "    <tr>\n",
       "      <th>3</th>\n",
       "      <td>33</td>\n",
       "      <td>0</td>\n",
       "      <td>2</td>\n",
       "      <td>1392</td>\n",
       "      <td>3</td>\n",
       "      <td>4</td>\n",
       "      <td>4</td>\n",
       "      <td>0</td>\n",
       "      <td>56</td>\n",
       "      <td>3</td>\n",
       "      <td>...</td>\n",
       "      <td>0</td>\n",
       "      <td>1</td>\n",
       "      <td>0</td>\n",
       "      <td>1</td>\n",
       "      <td>0</td>\n",
       "      <td>0</td>\n",
       "      <td>0</td>\n",
       "      <td>0</td>\n",
       "      <td>1</td>\n",
       "      <td>0</td>\n",
       "    </tr>\n",
       "    <tr>\n",
       "      <th>4</th>\n",
       "      <td>27</td>\n",
       "      <td>0</td>\n",
       "      <td>1</td>\n",
       "      <td>591</td>\n",
       "      <td>2</td>\n",
       "      <td>1</td>\n",
       "      <td>1</td>\n",
       "      <td>1</td>\n",
       "      <td>40</td>\n",
       "      <td>3</td>\n",
       "      <td>...</td>\n",
       "      <td>0</td>\n",
       "      <td>1</td>\n",
       "      <td>0</td>\n",
       "      <td>0</td>\n",
       "      <td>0</td>\n",
       "      <td>1</td>\n",
       "      <td>0</td>\n",
       "      <td>0</td>\n",
       "      <td>1</td>\n",
       "      <td>0</td>\n",
       "    </tr>\n",
       "  </tbody>\n",
       "</table>\n",
       "<p>5 rows × 44 columns</p>\n",
       "</div>"
      ],
      "text/plain": [
       "   age  attrition  business_travel  daily_rate  distance_from_home  education  \\\n",
       "0   41          1                1        1102                   1          2   \n",
       "1   49          0                2         279                   8          1   \n",
       "2   37          1                1        1373                   2          2   \n",
       "3   33          0                2        1392                   3          4   \n",
       "4   27          0                1         591                   2          1   \n",
       "\n",
       "   environment_satisfaction  gender  hourly_rate  job_involvement  ...  \\\n",
       "0                         2       0           94                3  ...   \n",
       "1                         3       1           61                2  ...   \n",
       "2                         4       1           92                2  ...   \n",
       "3                         4       0           56                3  ...   \n",
       "4                         1       1           40                3  ...   \n",
       "\n",
       "   job_role_sales representative  department_research & development  \\\n",
       "0                              0                                  0   \n",
       "1                              0                                  1   \n",
       "2                              0                                  1   \n",
       "3                              0                                  1   \n",
       "4                              0                                  1   \n",
       "\n",
       "   department_sales  education_field_life sciences  education_field_marketing  \\\n",
       "0                 1                              1                          0   \n",
       "1                 0                              1                          0   \n",
       "2                 0                              0                          0   \n",
       "3                 0                              1                          0   \n",
       "4                 0                              0                          0   \n",
       "\n",
       "   education_field_medical  education_field_other  \\\n",
       "0                        0                      0   \n",
       "1                        0                      0   \n",
       "2                        0                      1   \n",
       "3                        0                      0   \n",
       "4                        1                      0   \n",
       "\n",
       "   education_field_technical degree  marital_status_married  \\\n",
       "0                                 0                       0   \n",
       "1                                 0                       1   \n",
       "2                                 0                       0   \n",
       "3                                 0                       1   \n",
       "4                                 0                       1   \n",
       "\n",
       "   marital_status_single  \n",
       "0                      1  \n",
       "1                      0  \n",
       "2                      1  \n",
       "3                      0  \n",
       "4                      0  \n",
       "\n",
       "[5 rows x 44 columns]"
      ]
     },
     "execution_count": 5,
     "metadata": {},
     "output_type": "execute_result"
    }
   ],
   "source": [
    "df.head()"
   ]
  },
  {
   "cell_type": "code",
   "execution_count": 6,
   "metadata": {},
   "outputs": [],
   "source": [
    "import matplotlib.pyplot as plt\n",
    "plt.style.use(\"ggplot\")"
   ]
  },
  {
   "cell_type": "code",
   "execution_count": 7,
   "metadata": {},
   "outputs": [],
   "source": [
    "y = df.attrition\n",
    "X = df.drop('attrition',axis=1)"
   ]
  },
  {
   "cell_type": "code",
   "execution_count": 32,
   "metadata": {},
   "outputs": [
    {
     "data": {
      "text/plain": [
       "Index(['age', 'business_travel', 'daily_rate', 'distance_from_home',\n",
       "       'education', 'environment_satisfaction', 'gender', 'hourly_rate',\n",
       "       'job_involvement', 'job_level', 'job_satisfaction', 'monthly_income',\n",
       "       'monthly_rate', 'num_companies_worked', 'over_time',\n",
       "       'percent_salary_hike', 'performance_rating',\n",
       "       'relationship_satisfaction', 'stock_option_level',\n",
       "       'total_working_years', 'training_times_last_year', 'work_life_balance',\n",
       "       'years_at_company', 'years_in_current_role',\n",
       "       'years_since_last_promotion', 'years_with_curr_manager',\n",
       "       'job_role_human resources', 'job_role_laboratory technician',\n",
       "       'job_role_manager', 'job_role_manufacturing director',\n",
       "       'job_role_research director', 'job_role_research scientist',\n",
       "       'job_role_sales executive', 'job_role_sales representative',\n",
       "       'department_research & development', 'department_sales',\n",
       "       'education_field_life sciences', 'education_field_marketing',\n",
       "       'education_field_medical', 'education_field_other',\n",
       "       'education_field_technical degree', 'marital_status_married',\n",
       "       'marital_status_single'],\n",
       "      dtype='object')"
      ]
     },
     "execution_count": 32,
     "metadata": {},
     "output_type": "execute_result"
    }
   ],
   "source": [
    "X.columns"
   ]
  },
  {
   "cell_type": "code",
   "execution_count": 8,
   "metadata": {},
   "outputs": [
    {
     "data": {
      "text/plain": [
       "StandardScaler()"
      ]
     },
     "execution_count": 8,
     "metadata": {},
     "output_type": "execute_result"
    }
   ],
   "source": [
    "X_train, X_test, y_train, y_test = train_test_split(X, y, random_state=42)\n",
    "from sklearn.preprocessing import StandardScaler \n",
    "scaler = StandardScaler()\n",
    "scaler.fit(X_train)"
   ]
  },
  {
   "cell_type": "code",
   "execution_count": 9,
   "metadata": {},
   "outputs": [
    {
     "data": {
      "text/plain": [
       "Lasso(alpha=0.5)"
      ]
     },
     "execution_count": 9,
     "metadata": {},
     "output_type": "execute_result"
    }
   ],
   "source": [
    "reg = Lasso(alpha=0.5)\n",
    "reg.fit(X_train, y_train)"
   ]
  },
  {
   "cell_type": "code",
   "execution_count": 10,
   "metadata": {},
   "outputs": [
    {
     "name": "stdout",
     "output_type": "stream",
     "text": [
      "Lasso Regression: R^2 score on training set 3.0763355299385675\n",
      "Lasso Regression: R^2 score on test set 0.6640708168101028\n"
     ]
    }
   ],
   "source": [
    "print('Lasso Regression: R^2 score on training set', reg.score(X_train, y_train)*100)\n",
    "print('Lasso Regression: R^2 score on test set', reg.score(X_test, y_test)*100)"
   ]
  },
  {
   "cell_type": "code",
   "execution_count": 11,
   "metadata": {},
   "outputs": [],
   "source": [
    "lambdas = (0.001, 0.01, 0.1, 0.5, 1, 2, 10)\n",
    "l_num = 7\n",
    "pred_num = X.shape[1]\n",
    "\n",
    "# prepare data for enumerate\n",
    "coeff_a = np.zeros((l_num, pred_num))\n",
    "train_r_squared = np.zeros(l_num)\n",
    "test_r_squared = np.zeros(l_num)"
   ]
  },
  {
   "cell_type": "code",
   "execution_count": 12,
   "metadata": {},
   "outputs": [],
   "source": [
    "for ind, i in enumerate(lambdas):    \n",
    "    reg = Lasso(alpha = i)\n",
    "    reg.fit(X_train, y_train)\n",
    "\n",
    "    coeff_a[ind,:] = reg.coef_\n",
    "    train_r_squared[ind] = reg.score(X_train, y_train)\n",
    "    test_r_squared[ind] = reg.score(X_test, y_test)"
   ]
  },
  {
   "cell_type": "code",
   "execution_count": 13,
   "metadata": {},
   "outputs": [
    {
     "data": {
      "image/png": "[encoded data removed]",
      "text/plain": [
       "<Figure size 1296x576 with 1 Axes>"
      ]
     },
     "metadata": {},
     "output_type": "display_data"
    }
   ],
   "source": [
    "plt.figure(figsize=(18, 8))\n",
    "plt.plot(train_r_squared, 'bo-', label=r'$R^2$ Training set', color=\"darkblue\", alpha=0.6, linewidth=3)\n",
    "plt.plot(test_r_squared, 'bo-', label=r'$R^2$ Test set', color=\"darkred\", alpha=0.6, linewidth=3)\n",
    "plt.xlabel('Lamda index'); plt.ylabel(r'$R^2$')\n",
    "plt.xlim(0, 6)\n",
    "plt.title(r'Evaluate lasso regression with lamdas: 0 = 0.001, 1= 0.01, 2 = 0.1, 3 = 0.5, 4= 1, 5= 2, 6 = 10')\n",
    "plt.legend(loc='best')\n",
    "plt.grid()"
   ]
  },
  {
   "cell_type": "code",
   "execution_count": 14,
   "metadata": {},
   "outputs": [
    {
     "data": {
      "text/plain": [
       "R_squared    12.411391\n",
       "lambda        0.001000\n",
       "Name: 0, dtype: float64"
      ]
     },
     "execution_count": 14,
     "metadata": {},
     "output_type": "execute_result"
    }
   ],
   "source": [
    "from sklearn.metrics import mean_squared_error\n",
    "df_lam = pd.DataFrame(test_r_squared*100, columns=['R_squared'])\n",
    "df_lam['lambda'] = (lambdas)\n",
    "# returns the index of the row where column has maximum value.\n",
    "df_lam.loc[df_lam['R_squared'].idxmax()]"
   ]
  },
  {
   "cell_type": "code",
   "execution_count": 15,
   "metadata": {},
   "outputs": [
    {
     "data": {
      "text/plain": [
       "array([-3.00107822e-03,  7.24552773e-02, -2.23004186e-05,  3.07720905e-03,\n",
       "        5.91534024e-03, -3.86228622e-02,  3.55324233e-02, -7.04078300e-05,\n",
       "       -5.36879349e-02, -5.29587994e-03, -3.62214367e-02, -4.09042157e-08,\n",
       "        5.76982270e-07,  2.11448297e-02,  2.27774249e-01, -1.53463567e-04,\n",
       "       -0.00000000e+00, -1.50175867e-02, -1.59680911e-02, -5.42086237e-03,\n",
       "       -8.85949633e-03, -2.27703220e-02,  8.88020665e-03, -1.31176213e-02,\n",
       "        9.42967301e-03, -9.36126709e-03,  3.22877633e-02,  1.22897816e-01,\n",
       "        0.00000000e+00,  0.00000000e+00, -1.42832235e-03,  1.10339794e-02,\n",
       "        0.00000000e+00,  1.48400609e-01, -5.66309740e-02,  0.00000000e+00,\n",
       "       -3.83232408e-02,  0.00000000e+00, -4.16589793e-02, -4.16317937e-02,\n",
       "        5.90415307e-02,  8.70209313e-03,  1.26611316e-01])"
      ]
     },
     "execution_count": 15,
     "metadata": {},
     "output_type": "execute_result"
    }
   ],
   "source": [
    "# Coefficients of best model\n",
    "reg_best = Lasso(alpha = 0.001)\n",
    "reg_best.fit(X_train, y_train)\n",
    "reg_best.coef_"
   ]
  },
  {
   "cell_type": "code",
   "execution_count": 16,
   "metadata": {},
   "outputs": [
    {
     "data": {
      "text/plain": [
       "0.09934435799441058"
      ]
     },
     "execution_count": 16,
     "metadata": {},
     "output_type": "execute_result"
    }
   ],
   "source": [
    "from sklearn.metrics import mean_squared_error\n",
    "mean_squared_error(y_test, reg_best.predict(X_test))"
   ]
  },
  {
   "cell_type": "code",
   "execution_count": 17,
   "metadata": {},
   "outputs": [],
   "source": [
    "l_min = 0.001\n",
    "l_max = 0.1\n",
    "l_num = 20\n",
    "lambdas = np.linspace(l_min,l_max, l_num)\n",
    "\n",
    "train_r_squared = np.zeros(l_num)\n",
    "test_r_squared = np.zeros(l_num)\n",
    "\n",
    "pred_num = X.shape[1]\n",
    "coeff_a = np.zeros((l_num, pred_num))"
   ]
  },
  {
   "cell_type": "code",
   "execution_count": 18,
   "metadata": {},
   "outputs": [
    {
     "data": {
      "text/plain": [
       "[0.001,\n",
       " 0.006,\n",
       " 0.011,\n",
       " 0.017,\n",
       " 0.022,\n",
       " 0.027,\n",
       " 0.032,\n",
       " 0.037,\n",
       " 0.043,\n",
       " 0.048,\n",
       " 0.053,\n",
       " 0.058,\n",
       " 0.064,\n",
       " 0.069,\n",
       " 0.074,\n",
       " 0.079,\n",
       " 0.084,\n",
       " 0.09,\n",
       " 0.095,\n",
       " 0.1]"
      ]
     },
     "execution_count": 18,
     "metadata": {},
     "output_type": "execute_result"
    }
   ],
   "source": [
    "list(lambdas.round(3))"
   ]
  },
  {
   "cell_type": "code",
   "execution_count": 19,
   "metadata": {},
   "outputs": [],
   "source": [
    "from sklearn.model_selection import cross_val_score\n",
    "\n",
    "for ind, i in enumerate(lambdas):    \n",
    "    reg = Lasso(alpha = i)\n",
    "    reg.fit(X_train, y_train)\n",
    "    results = cross_val_score(reg, X, y, cv=5, scoring=\"r2\")\n",
    "\n",
    "    train_r_squared[ind] = reg.score(X_train, y_train)    \n",
    "    test_r_squared[ind] = reg.score(X_test, y_test)"
   ]
  },
  {
   "cell_type": "code",
   "execution_count": 20,
   "metadata": {},
   "outputs": [
    {
     "data": {
      "image/png": "[encoded data removed]",
      "text/plain": [
       "<Figure size 1296x576 with 1 Axes>"
      ]
     },
     "metadata": {},
     "output_type": "display_data"
    }
   ],
   "source": [
    "plt.figure(figsize=(18, 8))\n",
    "plt.plot(train_r_squared, 'bo-', label=r'$R^2$ Training set', color=\"darkblue\", alpha=0.6, linewidth=3)\n",
    "plt.plot(test_r_squared, 'bo-', label=r'$R^2$ Test set', color=\"darkred\", alpha=0.6, linewidth=3)\n",
    "plt.xlabel('Lamda value', fontsize=18)\n",
    "plt.ylabel(r'$R^2$', fontsize=18)\n",
    "\n",
    "plt.xticks(np.arange(20),('0.001','0.006','0.011','0.017','0.022','0.027','0.032','0.037',\n",
    "                         '0.043','0.048','0.053','0.058','0.064','0.069','0.074','0.079',\n",
    "                         '0.084','0.09','0.095','0.1'))\n",
    "plt.xticks(rotation=70)\n",
    "plt.title(r'Evaluate 5-Fold Cross Validation With Various Lamdas')\n",
    "plt.legend(loc='best')\n",
    "plt.grid()"
   ]
  },
  {
   "cell_type": "code",
   "execution_count": 21,
   "metadata": {},
   "outputs": [
    {
     "data": {
      "text/plain": [
       "R_squared    13.384780\n",
       "lambda        0.006211\n",
       "Name: 1, dtype: float64"
      ]
     },
     "execution_count": 21,
     "metadata": {},
     "output_type": "execute_result"
    }
   ],
   "source": [
    "df_lam = pd.DataFrame(test_r_squared*100, columns=['R_squared'])\n",
    "df_lam['lambda'] = (lambdas)\n",
    "# returns the index of the row where column has maximum value.\n",
    "df_lam.loc[df_lam['R_squared'].idxmax()]"
   ]
  },
  {
   "cell_type": "code",
   "execution_count": 22,
   "metadata": {},
   "outputs": [
    {
     "data": {
      "text/plain": [
       "Lasso(alpha=0.006211)"
      ]
     },
     "execution_count": 22,
     "metadata": {},
     "output_type": "execute_result"
    }
   ],
   "source": [
    "# Best Model\n",
    "reg_best = Lasso(alpha = 0.006211)\n",
    "reg_best.fit(X_train, y_train)"
   ]
  },
  {
   "cell_type": "code",
   "execution_count": 23,
   "metadata": {},
   "outputs": [
    {
     "data": {
      "text/plain": [
       "0.09824045384578609"
      ]
     },
     "execution_count": 23,
     "metadata": {},
     "output_type": "execute_result"
    }
   ],
   "source": [
    "mean_squared_error(y_test, reg_best.predict(X_test))"
   ]
  },
  {
   "cell_type": "code",
   "execution_count": 24,
   "metadata": {},
   "outputs": [
    {
     "name": "stdout",
     "output_type": "stream",
     "text": [
      "[-3.10169169e-03  5.40489196e-02 -2.53085449e-05  3.01146073e-03\n",
      "  0.00000000e+00 -3.34524989e-02  9.82222517e-03 -8.09768728e-05\n",
      " -4.51083251e-02 -0.00000000e+00 -3.29033092e-02 -4.77666000e-06\n",
      "  3.99970131e-07  1.91702857e-02  1.97274574e-01 -3.55109428e-05\n",
      " -0.00000000e+00 -9.35553216e-03 -2.19411507e-02 -4.65823732e-03\n",
      " -6.05083918e-03 -1.02759961e-02  7.43159129e-03 -1.30716608e-02\n",
      "  9.08899795e-03 -8.98468975e-03  0.00000000e+00  4.95549020e-02\n",
      "  0.00000000e+00 -0.00000000e+00 -0.00000000e+00 -0.00000000e+00\n",
      " -0.00000000e+00  4.90048263e-02 -4.54401010e-02  0.00000000e+00\n",
      " -0.00000000e+00  0.00000000e+00 -0.00000000e+00 -0.00000000e+00\n",
      "  2.27332271e-02 -0.00000000e+00  8.95400119e-02]\n"
     ]
    }
   ],
   "source": [
    "print(reg_best.coef_)"
   ]
  },
  {
   "cell_type": "code",
   "execution_count": 25,
   "metadata": {},
   "outputs": [],
   "source": [
    "coeff_list = list(zip(reg_best.coef_, df.columns))"
   ]
  },
  {
   "cell_type": "code",
   "execution_count": 26,
   "metadata": {},
   "outputs": [
    {
     "data": {
      "text/plain": [
       "[(-0.003101691693413717, 'age'),\n",
       " (0.0540489195614885, 'attrition'),\n",
       " (-2.5308544858479724e-05, 'business_travel'),\n",
       " (0.0030114607272377085, 'daily_rate'),\n",
       " (0.0, 'distance_from_home'),\n",
       " (-0.03345249886607443, 'education'),\n",
       " (0.00982222516989057, 'environment_satisfaction'),\n",
       " (-8.097687280267609e-05, 'gender'),\n",
       " (-0.04510832512717466, 'hourly_rate'),\n",
       " (-0.0, 'job_involvement'),\n",
       " (-0.03290330919387847, 'job_level'),\n",
       " (-4.7766600016740515e-06, 'job_satisfaction'),\n",
       " (3.999701305115233e-07, 'monthly_income'),\n",
       " (0.01917028567711938, 'monthly_rate'),\n",
       " (0.19727457381123303, 'num_companies_worked'),\n",
       " (-3.5510942820675336e-05, 'over_time'),\n",
       " (-0.0, 'percent_salary_hike'),\n",
       " (-0.009355532161955869, 'performance_rating'),\n",
       " (-0.02194115074341849, 'relationship_satisfaction'),\n",
       " (-0.004658237320498423, 'stock_option_level'),\n",
       " (-0.006050839179876658, 'total_working_years'),\n",
       " (-0.010275996141766377, 'training_times_last_year'),\n",
       " (0.007431591290527347, 'work_life_balance'),\n",
       " (-0.013071660757476676, 'years_at_company'),\n",
       " (0.009088997945003226, 'years_in_current_role'),\n",
       " (-0.00898468974766579, 'years_since_last_promotion'),\n",
       " (0.0, 'years_with_curr_manager'),\n",
       " (0.04955490201581871, 'job_role_human resources'),\n",
       " (0.0, 'job_role_laboratory technician'),\n",
       " (-0.0, 'job_role_manager'),\n",
       " (-0.0, 'job_role_manufacturing director'),\n",
       " (-0.0, 'job_role_research director'),\n",
       " (-0.0, 'job_role_research scientist'),\n",
       " (0.04900482629198817, 'job_role_sales executive'),\n",
       " (-0.04544010099672829, 'job_role_sales representative'),\n",
       " (0.0, 'department_research & development'),\n",
       " (-0.0, 'department_sales'),\n",
       " (0.0, 'education_field_life sciences'),\n",
       " (-0.0, 'education_field_marketing'),\n",
       " (-0.0, 'education_field_medical'),\n",
       " (0.02273322711572358, 'education_field_other'),\n",
       " (-0.0, 'education_field_technical degree'),\n",
       " (0.08954001192752677, 'marital_status_married')]"
      ]
     },
     "execution_count": 26,
     "metadata": {},
     "output_type": "execute_result"
    }
   ],
   "source": [
    "coeff_list"
   ]
  },
  {
   "cell_type": "code",
   "execution_count": 28,
   "metadata": {},
   "outputs": [
    {
     "data": {
      "text/plain": [
       "[(-0.04544010099672829, 'job_role_sales representative'),\n",
       " (-0.04510832512717466, 'hourly_rate'),\n",
       " (-0.03345249886607443, 'education'),\n",
       " (-0.03290330919387847, 'job_level'),\n",
       " (-0.02194115074341849, 'relationship_satisfaction'),\n",
       " (-0.013071660757476676, 'years_at_company'),\n",
       " (-0.010275996141766377, 'training_times_last_year'),\n",
       " (-0.009355532161955869, 'performance_rating'),\n",
       " (-0.00898468974766579, 'years_since_last_promotion'),\n",
       " (-0.006050839179876658, 'total_working_years'),\n",
       " (-0.004658237320498423, 'stock_option_level'),\n",
       " (-0.003101691693413717, 'age'),\n",
       " (-8.097687280267609e-05, 'gender'),\n",
       " (-3.5510942820675336e-05, 'over_time'),\n",
       " (-2.5308544858479724e-05, 'business_travel'),\n",
       " (-4.7766600016740515e-06, 'job_satisfaction'),\n",
       " (0.0, 'department_research & development'),\n",
       " (-0.0, 'department_sales'),\n",
       " (0.0, 'distance_from_home'),\n",
       " (0.0, 'education_field_life sciences'),\n",
       " (-0.0, 'education_field_marketing'),\n",
       " (-0.0, 'education_field_medical'),\n",
       " (-0.0, 'education_field_technical degree'),\n",
       " (-0.0, 'job_involvement'),\n",
       " (0.0, 'job_role_laboratory technician'),\n",
       " (-0.0, 'job_role_manager'),\n",
       " (-0.0, 'job_role_manufacturing director'),\n",
       " (-0.0, 'job_role_research director'),\n",
       " (-0.0, 'job_role_research scientist'),\n",
       " (-0.0, 'percent_salary_hike'),\n",
       " (0.0, 'years_with_curr_manager'),\n",
       " (3.999701305115233e-07, 'monthly_income'),\n",
       " (0.0030114607272377085, 'daily_rate'),\n",
       " (0.007431591290527347, 'work_life_balance'),\n",
       " (0.009088997945003226, 'years_in_current_role'),\n",
       " (0.00982222516989057, 'environment_satisfaction'),\n",
       " (0.01917028567711938, 'monthly_rate'),\n",
       " (0.02273322711572358, 'education_field_other'),\n",
       " (0.04900482629198817, 'job_role_sales executive'),\n",
       " (0.04955490201581871, 'job_role_human resources'),\n",
       " (0.0540489195614885, 'attrition'),\n",
       " (0.08954001192752677, 'marital_status_married'),\n",
       " (0.19727457381123303, 'num_companies_worked')]"
      ]
     },
     "execution_count": 28,
     "metadata": {},
     "output_type": "execute_result"
    }
   ],
   "source": [
    "sorted(coeff_list)"
   ]
  },
  {
   "cell_type": "code",
   "execution_count": 31,
   "metadata": {},
   "outputs": [
    {
     "data": {
      "text/plain": [
       "1.2180784472358082"
      ]
     },
     "execution_count": 31,
     "metadata": {},
     "output_type": "execute_result"
    }
   ],
   "source": [
    "np.exp(0.19727457381123303)"
   ]
  },
  {
   "cell_type": "code",
   "execution_count": 33,
   "metadata": {},
   "outputs": [],
   "source": [
    "prob = 1.2180784472358082/(1+1.2180784472358082)"
   ]
  },
  {
   "cell_type": "code",
   "execution_count": 34,
   "metadata": {},
   "outputs": [
    {
     "data": {
      "text/plain": [
       "0.549159317946482"
      ]
     },
     "execution_count": 34,
     "metadata": {},
     "output_type": "execute_result"
    }
   ],
   "source": [
    "prob"
   ]
  },
  {
   "cell_type": "code",
   "execution_count": 35,
   "metadata": {},
   "outputs": [
    {
     "ename": "TypeError",
     "evalue": "ufunc 'exp' not supported for the input types, and the inputs could not be safely coerced to any supported types according to the casting rule ''safe''",
     "output_type": "error",
     "traceback": [
      "\u001b[0;31m---------------------------------------------------------------------------\u001b[0m",
      "\u001b[0;31mTypeError\u001b[0m                                 Traceback (most recent call last)",
      "\u001b[0;32m<ipython-input-35-36af6da0e2a8>\u001b[0m in \u001b[0;36m<module>\u001b[0;34m\u001b[0m\n\u001b[0;32m----> 1\u001b[0;31m \u001b[0mlog_odd_coeff_list\u001b[0m \u001b[0;34m=\u001b[0m \u001b[0mnp\u001b[0m\u001b[0;34m.\u001b[0m\u001b[0mexp\u001b[0m\u001b[0;34m(\u001b[0m\u001b[0mcoeff_list\u001b[0m\u001b[0;34m)\u001b[0m\u001b[0;34m\u001b[0m\u001b[0;34m\u001b[0m\u001b[0m\n\u001b[0m",
      "\u001b[0;31mTypeError\u001b[0m: ufunc 'exp' not supported for the input types, and the inputs could not be safely coerced to any supported types according to the casting rule ''safe''"
     ]
    }
   ],
   "source": [
    "log_odd_coeff_list = np.exp(coeff_list)"
   ]
  },
  {
   "cell_type": "code",
   "execution_count": null,
   "metadata": {},
   "outputs": [],
   "source": []
  }
 ],
 "metadata": {
  "kernelspec": {
   "display_name": "Python 3",
   "language": "python",
   "name": "python3"
  },
  "language_info": {
   "codemirror_mode": {
    "name": "ipython",
    "version": 3
   },
   "file_extension": ".py",
   "mimetype": "text/x-python",
   "name": "python",
   "nbconvert_exporter": "python",
   "pygments_lexer": "ipython3",
   "version": "3.7.9"
  }
 },
 "nbformat": 4,
 "nbformat_minor": 4
}
