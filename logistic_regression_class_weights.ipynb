{
 "cells": [
  {
   "cell_type": "code",
   "execution_count": 24,
   "metadata": {},
   "outputs": [
    {
     "name": "stdout",
     "output_type": "stream",
     "text": [
      "Accuracy Score: 0.7554347826086957\n",
      "Confusion Matrix: \n",
      "[[244  76]\n",
      " [ 14  34]]\n",
      "Area Under Curve: 0.7354166666666667\n",
      "Recall score: 0.7083333333333334\n"
     ]
    },
    {
     "name": "stderr",
     "output_type": "stream",
     "text": [
      "/home/tnbakke/anaconda3/lib/python3.7/site-packages/sklearn/linear_model/_logistic.py:764: ConvergenceWarning: lbfgs failed to converge (status=1):\n",
      "STOP: TOTAL NO. of ITERATIONS REACHED LIMIT.\n",
      "\n",
      "Increase the number of iterations (max_iter) or scale the data as shown in:\n",
      "    https://scikit-learn.org/stable/modules/preprocessing.html\n",
      "Please also refer to the documentation for alternative solver options:\n",
      "    https://scikit-learn.org/stable/modules/linear_model.html#logistic-regression\n",
      "  extra_warning_msg=_LOGISTIC_SOLVER_CONVERGENCE_MSG)\n"
     ]
    }
   ],
   "source": [
    "import pandas as pd\n",
    "import numpy as np\n",
    "import matplotlib.pyplot as plt \n",
    "plt.rc(\"font\", size=16)\n",
    "\n",
    "from sklearn.preprocessing import StandardScaler \n",
    "from sklearn import preprocessing\n",
    "from sklearn.linear_model import LogisticRegression\n",
    "from sklearn.model_selection import train_test_split\n",
    "from sklearn import metrics\n",
    "\n",
    "from sklearn.model_selection import GridSearchCV, cross_val_score, RepeatedStratifiedKFold, StratifiedKFold\n",
    "from sklearn.metrics import accuracy_score, confusion_matrix,roc_curve, roc_auc_score, precision_score, recall_score, precision_recall_curve\n",
    "from sklearn.metrics import f1_score\n",
    "\n",
    "df = pd.read_csv(\"./data/clean_one_hot_data.csv\")\n",
    "df.drop(df.columns[0], axis=1,inplace=True)\n",
    "\n",
    "scaler = StandardScaler()\n",
    "scaler.fit_transform(df)\n",
    "\n",
    "y = df['attrition']\n",
    "X = df.drop(columns=['attrition'])\n",
    "\n",
    "w = {0:15, 1:85}\n",
    "\n",
    "X_train, X_test, y_train, y_test = train_test_split(X, y, random_state=42)\n",
    "logreg = LogisticRegression(max_iter=5000, class_weight=w)\n",
    "logreg.fit(X_train, y_train)\n",
    "\n",
    "y_pred = logreg.predict(X_test)\n",
    "\n",
    "# con_matrix = confusion_matrix(y_test, y_pred).ravel()\n",
    "\n",
    "print(f'Accuracy Score: {accuracy_score(y_test,y_pred)}')\n",
    "print(f'Confusion Matrix: \\n{confusion_matrix(y_test, y_pred)}')\n",
    "print(f'Area Under Curve: {roc_auc_score(y_test, y_pred)}')\n",
    "print(f'Recall score: {recall_score(y_test,y_pred)}')"
   ]
  },
  {
   "cell_type": "code",
   "execution_count": 26,
   "metadata": {},
   "outputs": [
    {
     "name": "stdout",
     "output_type": "stream",
     "text": [
      "Accuracy Score: 0.6494565217391305\n",
      "Confusion Matrix: \n",
      "[[200 120]\n",
      " [  9  39]]\n",
      "Area Under Curve: 0.71875\n",
      "Recall score: 0.8125\n"
     ]
    },
    {
     "name": "stderr",
     "output_type": "stream",
     "text": [
      "/home/tnbakke/anaconda3/lib/python3.7/site-packages/sklearn/linear_model/_logistic.py:764: ConvergenceWarning: lbfgs failed to converge (status=1):\n",
      "STOP: TOTAL NO. of ITERATIONS REACHED LIMIT.\n",
      "\n",
      "Increase the number of iterations (max_iter) or scale the data as shown in:\n",
      "    https://scikit-learn.org/stable/modules/preprocessing.html\n",
      "Please also refer to the documentation for alternative solver options:\n",
      "    https://scikit-learn.org/stable/modules/linear_model.html#logistic-regression\n",
      "  extra_warning_msg=_LOGISTIC_SOLVER_CONVERGENCE_MSG)\n"
     ]
    }
   ],
   "source": [
    "df = pd.read_csv(\"./data/clean_one_hot_data.csv\")\n",
    "df.drop(df.columns[0], axis=1,inplace=True)\n",
    "\n",
    "scaler = StandardScaler()\n",
    "scaler.fit_transform(df)\n",
    "\n",
    "y = df['attrition']\n",
    "X = df.drop(columns=['attrition'])\n",
    "\n",
    "w = {0:10, 1:90}\n",
    "\n",
    "X_train, X_test, y_train, y_test = train_test_split(X, y, random_state=42)\n",
    "logreg = LogisticRegression(max_iter=5000, class_weight=w)\n",
    "logreg.fit(X_train, y_train)\n",
    "\n",
    "y_pred = logreg.predict(X_test)\n",
    "\n",
    "# con_matrix = confusion_matrix(y_test, y_pred).ravel()\n",
    "\n",
    "print(f'Accuracy Score: {accuracy_score(y_test,y_pred)}')\n",
    "print(f'Confusion Matrix: \\n{confusion_matrix(y_test, y_pred)}')\n",
    "print(f'Area Under Curve: {roc_auc_score(y_test, y_pred)}')\n",
    "print(f'Recall score: {recall_score(y_test,y_pred)}')"
   ]
  },
  {
   "cell_type": "code",
   "execution_count": 28,
   "metadata": {},
   "outputs": [
    {
     "name": "stdout",
     "output_type": "stream",
     "text": [
      "Accuracy Score: 0.5\n",
      "Confusion Matrix: \n",
      "[[144 176]\n",
      " [  8  40]]\n",
      "Area Under Curve: 0.6416666666666666\n",
      "Recall score: 0.8333333333333334\n"
     ]
    }
   ],
   "source": [
    "df = pd.read_csv(\"./data/clean_one_hot_data.csv\")\n",
    "df.drop(df.columns[0], axis=1,inplace=True)\n",
    "\n",
    "scaler = StandardScaler()\n",
    "scaler.fit_transform(df)\n",
    "\n",
    "y = df['attrition']\n",
    "X = df.drop(columns=['attrition'])\n",
    "\n",
    "w = {0:5, 1:95}\n",
    "\n",
    "X_train, X_test, y_train, y_test = train_test_split(X, y, random_state=42)\n",
    "logreg = LogisticRegression(max_iter=5000, class_weight=w)\n",
    "logreg.fit(X_train, y_train)\n",
    "\n",
    "y_pred = logreg.predict(X_test)\n",
    "\n",
    "# con_matrix = confusion_matrix(y_test, y_pred).ravel()\n",
    "\n",
    "print(f'Accuracy Score: {accuracy_score(y_test,y_pred)}')\n",
    "print(f'Confusion Matrix: \\n{confusion_matrix(y_test, y_pred)}')\n",
    "print(f'Area Under Curve: {roc_auc_score(y_test, y_pred)}')\n",
    "print(f'Recall score: {recall_score(y_test,y_pred)}')"
   ]
  },
  {
   "cell_type": "code",
   "execution_count": 29,
   "metadata": {},
   "outputs": [],
   "source": [
    "# from documentation: tn, fp, fn, tp"
   ]
  },
  {
   "cell_type": "code",
   "execution_count": 30,
   "metadata": {},
   "outputs": [],
   "source": [
    "lasso_coeffs = ['daily_rate', 'monthly_income', 'job_satisfaction', \n",
    "                'business_travel', 'years_at_company', 'age']"
   ]
  },
  {
   "cell_type": "code",
   "execution_count": 31,
   "metadata": {},
   "outputs": [
    {
     "name": "stdout",
     "output_type": "stream",
     "text": [
      "Accuracy Score: 0.38315217391304346\n",
      "Confusion Matrix: \n",
      "[[ 98 222]\n",
      " [  5  43]]\n",
      "Area Under Curve: 0.6010416666666667\n",
      "Recall score: 0.8958333333333334\n"
     ]
    }
   ],
   "source": [
    "df = pd.read_csv(\"./data/clean_one_hot_data.csv\")\n",
    "df.drop(df.columns[0], axis=1,inplace=True)\n",
    "\n",
    "y = df['attrition']\n",
    "X = df[lasso_coeffs]\n",
    "\n",
    "w = {0:10, 1:90}\n",
    "\n",
    "from sklearn.preprocessing import StandardScaler \n",
    "scaler = StandardScaler()\n",
    "scaler.fit_transform(df)\n",
    "\n",
    "X_train, X_test, y_train, y_test = train_test_split(X, y, random_state=42)\n",
    "logreg = LogisticRegression(max_iter=5000, class_weight=w)\n",
    "logreg.fit(X_train, y_train)\n",
    "\n",
    "y_pred = logreg.predict(X_test)\n",
    "\n",
    "# con_matrix = confusion_matrix(y_test, y_pred).ravel()\n",
    "\n",
    "print(f'Accuracy Score: {accuracy_score(y_test,y_pred)}')\n",
    "print(f'Confusion Matrix: \\n{confusion_matrix(y_test, y_pred)}')\n",
    "print(f'Area Under Curve: {roc_auc_score(y_test, y_pred)}')\n",
    "print(f'Recall score: {recall_score(y_test,y_pred)}')"
   ]
  },
  {
   "cell_type": "code",
   "execution_count": 32,
   "metadata": {},
   "outputs": [
    {
     "name": "stdout",
     "output_type": "stream",
     "text": [
      "Accuracy Score: 0.1983695652173913\n",
      "Confusion Matrix: \n",
      "[[ 27 293]\n",
      " [  2  46]]\n",
      "Area Under Curve: 0.5213541666666667\n",
      "Recall score: 0.9583333333333334\n"
     ]
    }
   ],
   "source": [
    "df = pd.read_csv(\"./data/clean_one_hot_data.csv\")\n",
    "df.drop(df.columns[0], axis=1,inplace=True)\n",
    "\n",
    "y = df['attrition']\n",
    "X = df[lasso_coeffs]\n",
    "\n",
    "w = {0:5, 1:95}\n",
    "\n",
    "from sklearn.preprocessing import StandardScaler \n",
    "scaler = StandardScaler()\n",
    "scaler.fit_transform(df)\n",
    "\n",
    "X_train, X_test, y_train, y_test = train_test_split(X, y, random_state=42)\n",
    "logreg = LogisticRegression(max_iter=5000, class_weight=w)\n",
    "logreg.fit(X_train, y_train)\n",
    "\n",
    "y_pred = logreg.predict(X_test)\n",
    "\n",
    "# con_matrix = confusion_matrix(y_test, y_pred).ravel()\n",
    "\n",
    "print(f'Accuracy Score: {accuracy_score(y_test,y_pred)}')\n",
    "print(f'Confusion Matrix: \\n{confusion_matrix(y_test, y_pred)}')\n",
    "print(f'Area Under Curve: {roc_auc_score(y_test, y_pred)}')\n",
    "print(f'Recall score: {recall_score(y_test,y_pred)}')"
   ]
  },
  {
   "cell_type": "code",
   "execution_count": null,
   "metadata": {},
   "outputs": [],
   "source": []
  }
 ],
 "metadata": {
  "kernelspec": {
   "display_name": "Python 3",
   "language": "python",
   "name": "python3"
  },
  "language_info": {
   "codemirror_mode": {
    "name": "ipython",
    "version": 3
   },
   "file_extension": ".py",
   "mimetype": "text/x-python",
   "name": "python",
   "nbconvert_exporter": "python",
   "pygments_lexer": "ipython3",
   "version": "3.7.9"
  }
 },
 "nbformat": 4,
 "nbformat_minor": 4
}
