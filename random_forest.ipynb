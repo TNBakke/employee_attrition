{
 "cells": [
  {
   "cell_type": "code",
   "execution_count": 1,
   "metadata": {},
   "outputs": [],
   "source": [
    "import pandas as pd\n",
    "import numpy as np\n",
    "import matplotlib.pyplot as plt\n",
    "\n",
    "from sklearn.ensemble import RandomForestClassifier\n",
    "from sklearn.metrics import accuracy_score, precision_score, recall_score\n",
    "from sklearn.model_selection import train_test_split, cross_val_score\n",
    "\n",
    "def default_random_forest(df):\n",
    "    y = df.pop('attrition').values\n",
    "    X = df.values\n",
    "    X_train, X_test, y_train, y_test = train_test_split(X,y, random_state=42)\n",
    "    rf = RandomForestClassifier(random_state=42)\n",
    "    rf.fit(X_train, y_train)\n",
    "    \n",
    "    y_preds = rf.predict(X_test)\n",
    "    \n",
    "    accuracy_score_ = accuracy_score(y_test, y_preds)\n",
    "    precision_score_ = precision_score(y_test, y_preds)\n",
    "    recall_score_ = recall_score(y_test, y_preds)\n",
    "    \n",
    "    return f'Accuracy Score: {accuracy_score_}', f'Precision Score: {precision_score_}', f'Recall Score: {recall_score_}'"
   ]
  },
  {
   "cell_type": "code",
   "execution_count": 2,
   "metadata": {},
   "outputs": [],
   "source": [
    "df = pd.read_csv('./data/clean_one_hot_data.csv')"
   ]
  },
  {
   "cell_type": "code",
   "execution_count": 3,
   "metadata": {},
   "outputs": [
    {
     "data": {
      "text/plain": [
       "('Accuracy Score: 0.8668478260869565',\n",
       " 'Precision Score: 0.9166666666666666',\n",
       " 'Recall Score: 0.1864406779661017')"
      ]
     },
     "execution_count": 3,
     "metadata": {},
     "output_type": "execute_result"
    }
   ],
   "source": [
    "default_random_forest(df)"
   ]
  },
  {
   "cell_type": "code",
   "execution_count": 4,
   "metadata": {},
   "outputs": [],
   "source": [
    "# The default random forest with number of trees = 100 is at about 86.6% accurate which is only\n",
    "# slightly better than creating a RF by just purely guessing (84%) so will use SMOTE to account for this imbalance"
   ]
  },
  {
   "cell_type": "code",
   "execution_count": 11,
   "metadata": {},
   "outputs": [
    {
     "name": "stdout",
     "output_type": "stream",
     "text": [
      "Collecting imbalanced-learn\n",
      "  Downloading imbalanced_learn-0.7.0-py3-none-any.whl (167 kB)\n",
      "\u001b[K     |████████████████████████████████| 167 kB 1.3 MB/s eta 0:00:01\n",
      "\u001b[?25hRequirement already satisfied: scipy>=0.19.1 in /home/tnbakke/anaconda3/lib/python3.7/site-packages (from imbalanced-learn) (1.5.2)\n",
      "Requirement already satisfied: joblib>=0.11 in /home/tnbakke/anaconda3/lib/python3.7/site-packages (from imbalanced-learn) (0.17.0)\n",
      "Requirement already satisfied: numpy>=1.13.3 in /home/tnbakke/anaconda3/lib/python3.7/site-packages (from imbalanced-learn) (1.19.1)\n",
      "Requirement already satisfied: scikit-learn>=0.23 in /home/tnbakke/anaconda3/lib/python3.7/site-packages (from imbalanced-learn) (0.23.2)\n",
      "Requirement already satisfied: threadpoolctl>=2.0.0 in /home/tnbakke/anaconda3/lib/python3.7/site-packages (from scikit-learn>=0.23->imbalanced-learn) (2.1.0)\n",
      "Installing collected packages: imbalanced-learn\n",
      "Successfully installed imbalanced-learn-0.7.0\n"
     ]
    }
   ],
   "source": [
    "!pip install imbalanced-learn"
   ]
  },
  {
   "cell_type": "code",
   "execution_count": 24,
   "metadata": {},
   "outputs": [],
   "source": [
    "from imblearn.over_sampling import SMOTE\n",
    "\n",
    "df = pd.read_csv(\"./data/clean_one_hot_data.csv\")\n",
    "df.drop(df.columns[0], axis=1,inplace=True)"
   ]
  },
  {
   "cell_type": "code",
   "execution_count": 25,
   "metadata": {},
   "outputs": [
    {
     "data": {
      "text/html": [
       "<div>\n",
       "<style scoped>\n",
       "    .dataframe tbody tr th:only-of-type {\n",
       "        vertical-align: middle;\n",
       "    }\n",
       "\n",
       "    .dataframe tbody tr th {\n",
       "        vertical-align: top;\n",
       "    }\n",
       "\n",
       "    .dataframe thead th {\n",
       "        text-align: right;\n",
       "    }\n",
       "</style>\n",
       "<table border=\"1\" class=\"dataframe\">\n",
       "  <thead>\n",
       "    <tr style=\"text-align: right;\">\n",
       "      <th></th>\n",
       "      <th>age</th>\n",
       "      <th>attrition</th>\n",
       "      <th>business_travel</th>\n",
       "      <th>daily_rate</th>\n",
       "      <th>distance_from_home</th>\n",
       "      <th>education</th>\n",
       "      <th>environment_satisfaction</th>\n",
       "      <th>gender</th>\n",
       "      <th>hourly_rate</th>\n",
       "      <th>job_involvement</th>\n",
       "      <th>...</th>\n",
       "      <th>job_role_sales representative</th>\n",
       "      <th>department_research &amp; development</th>\n",
       "      <th>department_sales</th>\n",
       "      <th>education_field_life sciences</th>\n",
       "      <th>education_field_marketing</th>\n",
       "      <th>education_field_medical</th>\n",
       "      <th>education_field_other</th>\n",
       "      <th>education_field_technical degree</th>\n",
       "      <th>marital_status_married</th>\n",
       "      <th>marital_status_single</th>\n",
       "    </tr>\n",
       "  </thead>\n",
       "  <tbody>\n",
       "    <tr>\n",
       "      <th>0</th>\n",
       "      <td>41</td>\n",
       "      <td>1</td>\n",
       "      <td>1</td>\n",
       "      <td>1102</td>\n",
       "      <td>1</td>\n",
       "      <td>2</td>\n",
       "      <td>2</td>\n",
       "      <td>0</td>\n",
       "      <td>94</td>\n",
       "      <td>3</td>\n",
       "      <td>...</td>\n",
       "      <td>0</td>\n",
       "      <td>0</td>\n",
       "      <td>1</td>\n",
       "      <td>1</td>\n",
       "      <td>0</td>\n",
       "      <td>0</td>\n",
       "      <td>0</td>\n",
       "      <td>0</td>\n",
       "      <td>0</td>\n",
       "      <td>1</td>\n",
       "    </tr>\n",
       "    <tr>\n",
       "      <th>1</th>\n",
       "      <td>49</td>\n",
       "      <td>0</td>\n",
       "      <td>2</td>\n",
       "      <td>279</td>\n",
       "      <td>8</td>\n",
       "      <td>1</td>\n",
       "      <td>3</td>\n",
       "      <td>1</td>\n",
       "      <td>61</td>\n",
       "      <td>2</td>\n",
       "      <td>...</td>\n",
       "      <td>0</td>\n",
       "      <td>1</td>\n",
       "      <td>0</td>\n",
       "      <td>1</td>\n",
       "      <td>0</td>\n",
       "      <td>0</td>\n",
       "      <td>0</td>\n",
       "      <td>0</td>\n",
       "      <td>1</td>\n",
       "      <td>0</td>\n",
       "    </tr>\n",
       "    <tr>\n",
       "      <th>2</th>\n",
       "      <td>37</td>\n",
       "      <td>1</td>\n",
       "      <td>1</td>\n",
       "      <td>1373</td>\n",
       "      <td>2</td>\n",
       "      <td>2</td>\n",
       "      <td>4</td>\n",
       "      <td>1</td>\n",
       "      <td>92</td>\n",
       "      <td>2</td>\n",
       "      <td>...</td>\n",
       "      <td>0</td>\n",
       "      <td>1</td>\n",
       "      <td>0</td>\n",
       "      <td>0</td>\n",
       "      <td>0</td>\n",
       "      <td>0</td>\n",
       "      <td>1</td>\n",
       "      <td>0</td>\n",
       "      <td>0</td>\n",
       "      <td>1</td>\n",
       "    </tr>\n",
       "    <tr>\n",
       "      <th>3</th>\n",
       "      <td>33</td>\n",
       "      <td>0</td>\n",
       "      <td>2</td>\n",
       "      <td>1392</td>\n",
       "      <td>3</td>\n",
       "      <td>4</td>\n",
       "      <td>4</td>\n",
       "      <td>0</td>\n",
       "      <td>56</td>\n",
       "      <td>3</td>\n",
       "      <td>...</td>\n",
       "      <td>0</td>\n",
       "      <td>1</td>\n",
       "      <td>0</td>\n",
       "      <td>1</td>\n",
       "      <td>0</td>\n",
       "      <td>0</td>\n",
       "      <td>0</td>\n",
       "      <td>0</td>\n",
       "      <td>1</td>\n",
       "      <td>0</td>\n",
       "    </tr>\n",
       "    <tr>\n",
       "      <th>4</th>\n",
       "      <td>27</td>\n",
       "      <td>0</td>\n",
       "      <td>1</td>\n",
       "      <td>591</td>\n",
       "      <td>2</td>\n",
       "      <td>1</td>\n",
       "      <td>1</td>\n",
       "      <td>1</td>\n",
       "      <td>40</td>\n",
       "      <td>3</td>\n",
       "      <td>...</td>\n",
       "      <td>0</td>\n",
       "      <td>1</td>\n",
       "      <td>0</td>\n",
       "      <td>0</td>\n",
       "      <td>0</td>\n",
       "      <td>1</td>\n",
       "      <td>0</td>\n",
       "      <td>0</td>\n",
       "      <td>1</td>\n",
       "      <td>0</td>\n",
       "    </tr>\n",
       "  </tbody>\n",
       "</table>\n",
       "<p>5 rows × 44 columns</p>\n",
       "</div>"
      ],
      "text/plain": [
       "   age  attrition  business_travel  daily_rate  distance_from_home  education  \\\n",
       "0   41          1                1        1102                   1          2   \n",
       "1   49          0                2         279                   8          1   \n",
       "2   37          1                1        1373                   2          2   \n",
       "3   33          0                2        1392                   3          4   \n",
       "4   27          0                1         591                   2          1   \n",
       "\n",
       "   environment_satisfaction  gender  hourly_rate  job_involvement  ...  \\\n",
       "0                         2       0           94                3  ...   \n",
       "1                         3       1           61                2  ...   \n",
       "2                         4       1           92                2  ...   \n",
       "3                         4       0           56                3  ...   \n",
       "4                         1       1           40                3  ...   \n",
       "\n",
       "   job_role_sales representative  department_research & development  \\\n",
       "0                              0                                  0   \n",
       "1                              0                                  1   \n",
       "2                              0                                  1   \n",
       "3                              0                                  1   \n",
       "4                              0                                  1   \n",
       "\n",
       "   department_sales  education_field_life sciences  education_field_marketing  \\\n",
       "0                 1                              1                          0   \n",
       "1                 0                              1                          0   \n",
       "2                 0                              0                          0   \n",
       "3                 0                              1                          0   \n",
       "4                 0                              0                          0   \n",
       "\n",
       "   education_field_medical  education_field_other  \\\n",
       "0                        0                      0   \n",
       "1                        0                      0   \n",
       "2                        0                      1   \n",
       "3                        0                      0   \n",
       "4                        1                      0   \n",
       "\n",
       "   education_field_technical degree  marital_status_married  \\\n",
       "0                                 0                       0   \n",
       "1                                 0                       1   \n",
       "2                                 0                       0   \n",
       "3                                 0                       1   \n",
       "4                                 0                       1   \n",
       "\n",
       "   marital_status_single  \n",
       "0                      1  \n",
       "1                      0  \n",
       "2                      1  \n",
       "3                      0  \n",
       "4                      0  \n",
       "\n",
       "[5 rows x 44 columns]"
      ]
     },
     "execution_count": 25,
     "metadata": {},
     "output_type": "execute_result"
    }
   ],
   "source": [
    "df.head()"
   ]
  },
  {
   "cell_type": "code",
   "execution_count": 26,
   "metadata": {},
   "outputs": [],
   "source": [
    "y = df.pop('attrition').values\n",
    "X = df.values\n",
    "# smt = SMOTE(random_state=42)\n",
    "# X_train_SMOTE, y_train_SMOTE = smt.fit_sample(X_train, y_train)"
   ]
  },
  {
   "cell_type": "code",
   "execution_count": 27,
   "metadata": {},
   "outputs": [],
   "source": [
    "X_train, X_test, y_train, y_test = train_test_split(X,y, random_state=42)"
   ]
  },
  {
   "cell_type": "code",
   "execution_count": 28,
   "metadata": {},
   "outputs": [],
   "source": [
    "smt = SMOTE(random_state=42)"
   ]
  },
  {
   "cell_type": "code",
   "execution_count": 29,
   "metadata": {},
   "outputs": [],
   "source": [
    "X_train_SMOTE, y_train_SMOTE = smt.fit_sample(X_train, y_train)"
   ]
  },
  {
   "cell_type": "code",
   "execution_count": 30,
   "metadata": {},
   "outputs": [],
   "source": [
    "rf = RandomForestClassifier(random_state=42)"
   ]
  },
  {
   "cell_type": "code",
   "execution_count": 31,
   "metadata": {},
   "outputs": [
    {
     "data": {
      "text/plain": [
       "RandomForestClassifier(random_state=42)"
      ]
     },
     "execution_count": 31,
     "metadata": {},
     "output_type": "execute_result"
    }
   ],
   "source": [
    "rf.fit(X_train_SMOTE, y_train_SMOTE)"
   ]
  },
  {
   "cell_type": "code",
   "execution_count": 32,
   "metadata": {},
   "outputs": [],
   "source": [
    "y_preds = rf.predict(X_test)"
   ]
  },
  {
   "cell_type": "code",
   "execution_count": 33,
   "metadata": {},
   "outputs": [
    {
     "data": {
      "text/plain": [
       "0.8722826086956522"
      ]
     },
     "execution_count": 33,
     "metadata": {},
     "output_type": "execute_result"
    }
   ],
   "source": [
    "accuracy_score(y_test, y_preds)"
   ]
  },
  {
   "cell_type": "code",
   "execution_count": 34,
   "metadata": {},
   "outputs": [],
   "source": [
    "# With SMOTE, I received an OOB Accuracy Score of 87.2%"
   ]
  },
  {
   "cell_type": "code",
   "execution_count": 36,
   "metadata": {},
   "outputs": [
    {
     "data": {
      "text/plain": [
       "array([[308,  12],\n",
       "       [ 35,  13]])"
      ]
     },
     "execution_count": 36,
     "metadata": {},
     "output_type": "execute_result"
    }
   ],
   "source": [
    "from sklearn.metrics import confusion_matrix\n",
    "confusion_matrix(y_test,y_preds)"
   ]
  },
  {
   "cell_type": "code",
   "execution_count": 37,
   "metadata": {},
   "outputs": [],
   "source": [
    "df = pd.read_csv(\"./data/clean_one_hot_data.csv\")\n",
    "df.drop(df.columns[0], axis=1,inplace=True)"
   ]
  },
  {
   "cell_type": "code",
   "execution_count": 38,
   "metadata": {},
   "outputs": [],
   "source": [
    "def smote_default_random_forest(df):\n",
    "    y = df.pop('attrition').values\n",
    "    X = df.values\n",
    "    X_train, X_test, y_train, y_test = train_test_split(X,y, random_state=42)\n",
    "    smt = SMOTE(random_state=42)\n",
    "    X_train_SMOTE, y_train_SMOTE = smt.fit_sample(X_train, y_train)\n",
    "    rf = RandomForestClassifier(random_state=42)\n",
    "    rf.fit(X_train_SMOTE, y_train_SMOTE)\n",
    "    y_preds = rf.predict(X_test)\n",
    "    \n",
    "    accuracy_score_ = accuracy_score(y_test, y_preds)\n",
    "    precision_score_ = precision_score(y_test, y_preds)\n",
    "    recall_score_ = recall_score(y_test, y_preds)\n",
    "    \n",
    "    return f'Accuracy Score: {accuracy_score_}', f'Precision Score: {precision_score_}', f'Recall Score: {recall_score_}'"
   ]
  },
  {
   "cell_type": "code",
   "execution_count": 39,
   "metadata": {},
   "outputs": [
    {
     "data": {
      "text/plain": [
       "('Accuracy Score: 0.8722826086956522',\n",
       " 'Precision Score: 0.52',\n",
       " 'Recall Score: 0.2708333333333333')"
      ]
     },
     "execution_count": 39,
     "metadata": {},
     "output_type": "execute_result"
    }
   ],
   "source": [
    "smote_default_random_forest(df)"
   ]
  },
  {
   "cell_type": "code",
   "execution_count": 40,
   "metadata": {},
   "outputs": [],
   "source": [
    "def smote_1000_tree_random_forest(df):\n",
    "    y = df.pop('attrition').values\n",
    "    X = df.values\n",
    "    X_train, X_test, y_train, y_test = train_test_split(X,y, random_state=42)\n",
    "    smt = SMOTE(random_state=42)\n",
    "    X_train_SMOTE, y_train_SMOTE = smt.fit_sample(X_train, y_train)\n",
    "    rf = RandomForestClassifier(n_estimators=1000,random_state=42)\n",
    "    rf.fit(X_train_SMOTE, y_train_SMOTE)\n",
    "    y_preds = rf.predict(X_test)\n",
    "    \n",
    "    accuracy_score_ = accuracy_score(y_test, y_preds)\n",
    "    precision_score_ = precision_score(y_test, y_preds)\n",
    "    recall_score_ = recall_score(y_test, y_preds)\n",
    "    \n",
    "    return f'Accuracy Score: {accuracy_score_}', f'Precision Score: {precision_score_}', f'Recall Score: {recall_score_}'"
   ]
  },
  {
   "cell_type": "code",
   "execution_count": 42,
   "metadata": {},
   "outputs": [
    {
     "data": {
      "text/plain": [
       "('Accuracy Score: 0.8586956521739131',\n",
       " 'Precision Score: 0.42857142857142855',\n",
       " 'Recall Score: 0.25')"
      ]
     },
     "execution_count": 42,
     "metadata": {},
     "output_type": "execute_result"
    }
   ],
   "source": [
    "df = pd.read_csv(\"./data/clean_one_hot_data.csv\")\n",
    "df.drop(df.columns[0], axis=1,inplace=True)\n",
    "smote_1000_tree_random_forest(df)"
   ]
  },
  {
   "cell_type": "code",
   "execution_count": 44,
   "metadata": {},
   "outputs": [],
   "source": [
    "# Interesting that a 1000 tree forest decreased the accuracy, precision score and recall score"
   ]
  },
  {
   "cell_type": "code",
   "execution_count": 2,
   "metadata": {},
   "outputs": [],
   "source": [
    "import pandas as pd\n",
    "import numpy as np\n",
    "import matplotlib.pyplot as plt\n",
    "\n",
    "from sklearn.ensemble import RandomForestClassifier\n",
    "from sklearn.metrics import accuracy_score, precision_score, recall_score\n",
    "from sklearn.model_selection import train_test_split, cross_val_score\n",
    "\n",
    "df = pd.read_csv(\"./data/clean_one_hot_data.csv\")\n",
    "df.drop(df.columns[0], axis=1,inplace=True)"
   ]
  },
  {
   "cell_type": "code",
   "execution_count": 5,
   "metadata": {},
   "outputs": [],
   "source": [
    "# Tuning the hyperparameter class_weight to see if I can improve the Recall score\n",
    "\n",
    "def default_random_forest(df):\n",
    "    y = df.pop('attrition').values\n",
    "    X = df.values\n",
    "    X_train, X_test, y_train, y_test = train_test_split(X,y, random_state=42)\n",
    "    rf = RandomForestClassifier(random_state=42, class_weight = 'balanced_subsample')\n",
    "    rf.fit(X_train, y_train)\n",
    "    \n",
    "    y_preds = rf.predict(X_test)\n",
    "    \n",
    "    accuracy_score_ = accuracy_score(y_test, y_preds)\n",
    "    precision_score_ = precision_score(y_test, y_preds)\n",
    "    recall_score_ = recall_score(y_test, y_preds)\n",
    "    \n",
    "    return f'Accuracy Score: {accuracy_score_}', f'Precision Score: {precision_score_}', f'Recall Score: {recall_score_}'"
   ]
  },
  {
   "cell_type": "code",
   "execution_count": 4,
   "metadata": {},
   "outputs": [
    {
     "data": {
      "text/plain": [
       "('Accuracy Score: 0.8804347826086957',\n",
       " 'Precision Score: 0.8333333333333334',\n",
       " 'Recall Score: 0.10416666666666667')"
      ]
     },
     "execution_count": 4,
     "metadata": {},
     "output_type": "execute_result"
    }
   ],
   "source": [
    "default_random_forest(df) #with class_weight = 'balanced'"
   ]
  },
  {
   "cell_type": "code",
   "execution_count": 8,
   "metadata": {},
   "outputs": [
    {
     "data": {
      "text/plain": [
       "('Accuracy Score: 0.8804347826086957',\n",
       " 'Precision Score: 1.0',\n",
       " 'Recall Score: 0.08333333333333333')"
      ]
     },
     "execution_count": 8,
     "metadata": {},
     "output_type": "execute_result"
    }
   ],
   "source": [
    "df = pd.read_csv(\"./data/clean_one_hot_data.csv\")\n",
    "df.drop(df.columns[0], axis=1,inplace=True)\n",
    "default_random_forest(df) #with class_weight = \"balanced_subsample\""
   ]
  },
  {
   "cell_type": "code",
   "execution_count": 1,
   "metadata": {},
   "outputs": [],
   "source": [
    "import numpy as np\n",
    "import pandas as pd\n",
    "\n",
    "from sklearn.preprocessing import LabelBinarizer\n",
    "from sklearn.ensemble import RandomForestClassifier\n",
    "from sklearn.model_selection import train_test_split, GridSearchCV, StratifiedKFold\n",
    "from sklearn.metrics import roc_curve, precision_recall_curve, auc, make_scorer, recall_score, accuracy_score, precision_score, confusion_matrix\n",
    "\n",
    "import matplotlib.pyplot as plt\n",
    "plt.style.use(\"ggplot\")\n",
    "\n",
    "df = pd.read_csv(\"./data/clean_one_hot_data.csv\")\n",
    "df.drop(df.columns[0], axis=1,inplace=True)\n",
    "\n",
    "y = df.pop('attrition').values\n",
    "X = df.values\n",
    "X_train, X_test, y_train, y_test = train_test_split(X,y, random_state=42)\n",
    "\n",
    "rf = RandomForestClassifier(n_jobs=-1)\n",
    "\n",
    "param_grid = {\n",
    "    'min_samples_split': [3, 5, 10], \n",
    "    'n_estimators' : [100, 300],\n",
    "    'max_depth': [3, 5, 15, 25],\n",
    "    'max_features': [3, 5, 10, 20]\n",
    "}\n",
    "\n",
    "scorers = {\n",
    "    'precision_score': make_scorer(precision_score),\n",
    "    'recall_score': make_scorer(recall_score),\n",
    "    'accuracy_score': make_scorer(accuracy_score)\n",
    "}"
   ]
  },
  {
   "cell_type": "code",
   "execution_count": 2,
   "metadata": {},
   "outputs": [],
   "source": [
    "def grid_search_wrapper(refit_score='recall_score'):\n",
    "    \"\"\"\n",
    "    fits a GridSearchCV classifier using refit_score for optimization\n",
    "    prints classifier performance metrics\n",
    "    \"\"\"\n",
    "    skf = StratifiedKFold(n_splits=10)\n",
    "    grid_search = GridSearchCV(rf, param_grid, scoring=scorers, refit=refit_score,\n",
    "                           cv=skf, return_train_score=True, n_jobs=-1)\n",
    "    grid_search.fit(X_train, y_train)\n",
    "\n",
    "    # make the predictions\n",
    "    y_pred = grid_search.predict(X_test)\n",
    "\n",
    "    print('Best params for {}'.format(refit_score))\n",
    "    print(grid_search.best_params_)\n",
    "\n",
    "    # confusion matrix on the test data.\n",
    "    print('\\nConfusion matrix of Random Forest optimized for {} on the test data:'.format(refit_score))\n",
    "    print(pd.DataFrame(confusion_matrix(y_test, y_pred),\n",
    "                 columns=['pred_neg', 'pred_pos'], index=['neg', 'pos']))\n",
    "    return grid_search"
   ]
  },
  {
   "cell_type": "code",
   "execution_count": 3,
   "metadata": {},
   "outputs": [
    {
     "name": "stdout",
     "output_type": "stream",
     "text": [
      "Best params for recall_score\n",
      "{'max_depth': 25, 'max_features': 20, 'min_samples_split': 3, 'n_estimators': 100}\n",
      "\n",
      "Confusion matrix of Random Forest optimized for recall_score on the test data:\n",
      "     pred_neg  pred_pos\n",
      "neg       317         3\n",
      "pos        43         5\n"
     ]
    }
   ],
   "source": [
    "rf_grid_search = grid_search_wrapper(refit_score='recall_score')"
   ]
  },
  {
   "cell_type": "code",
   "execution_count": null,
   "metadata": {},
   "outputs": [],
   "source": []
  }
 ],
 "metadata": {
  "kernelspec": {
   "display_name": "Python 3",
   "language": "python",
   "name": "python3"
  },
  "language_info": {
   "codemirror_mode": {
    "name": "ipython",
    "version": 3
   },
   "file_extension": ".py",
   "mimetype": "text/x-python",
   "name": "python",
   "nbconvert_exporter": "python",
   "pygments_lexer": "ipython3",
   "version": "3.7.9"
  }
 },
 "nbformat": 4,
 "nbformat_minor": 4
}
