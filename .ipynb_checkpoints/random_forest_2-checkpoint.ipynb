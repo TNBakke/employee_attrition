{
 "cells": [
  {
   "cell_type": "code",
   "execution_count": 2,
   "metadata": {},
   "outputs": [],
   "source": [
    "import numpy as np\n",
    "import pandas as pd\n",
    "from sklearn.model_selection import train_test_split\n",
    "from sklearn import preprocessing\n",
    "from sklearn.ensemble import RandomForestRegressor\n",
    "from sklearn.pipeline import make_pipeline\n",
    "from sklearn.model_selection import GridSearchCV\n",
    "from sklearn.metrics import mean_squared_error, r2_score\n",
    "from sklearn.metrics import roc_curve, precision_recall_curve, auc, make_scorer, recall_score, accuracy_score, precision_score, confusion_matrix"
   ]
  },
  {
   "cell_type": "code",
   "execution_count": 3,
   "metadata": {},
   "outputs": [],
   "source": [
    "import matplotlib.pyplot as plt\n",
    "plt.style.use(\"ggplot\")\n",
    "\n",
    "df = pd.read_csv(\"./data/clean_one_hot_data.csv\")\n",
    "df.drop(df.columns[0], axis=1,inplace=True)"
   ]
  },
  {
   "cell_type": "code",
   "execution_count": 4,
   "metadata": {},
   "outputs": [],
   "source": [
    "y = df.attrition\n",
    "X = df.drop('attrition',axis=1)"
   ]
  },
  {
   "cell_type": "code",
   "execution_count": 7,
   "metadata": {},
   "outputs": [
    {
     "data": {
      "text/plain": [
       "array([[ 0.4463504 , -0.16239918,  0.74252653, ..., -0.31409347,\n",
       "        -0.91892141,  1.45864991],\n",
       "       [ 1.32236521,  1.71733935, -1.2977746 , ..., -0.31409347,\n",
       "         1.08823234, -0.68556546],\n",
       "       [ 0.008343  , -0.16239918,  1.41436324, ..., -0.31409347,\n",
       "        -0.91892141,  1.45864991],\n",
       "       ...,\n",
       "       [-1.08667552, -0.16239918, -1.60518328, ..., -0.31409347,\n",
       "         1.08823234, -0.68556546],\n",
       "       [ 1.32236521,  1.71733935,  0.54667746, ..., -0.31409347,\n",
       "         1.08823234, -0.68556546],\n",
       "       [-0.32016256, -0.16239918, -0.43256792, ..., -0.31409347,\n",
       "         1.08823234, -0.68556546]])"
      ]
     },
     "execution_count": 7,
     "metadata": {},
     "output_type": "execute_result"
    }
   ],
   "source": [
    "from sklearn.preprocessing import StandardScaler \n",
    "scaler = StandardScaler()\n",
    "scaler.fit(X_train)"
   ]
  },
  {
   "cell_type": "code",
   "execution_count": 8,
   "metadata": {},
   "outputs": [],
   "source": [
    "X_train, X_test, y_train, y_test = train_test_split(X, y, random_state=42)"
   ]
  },
  {
   "cell_type": "code",
   "execution_count": 11,
   "metadata": {},
   "outputs": [],
   "source": [
    "from sklearn.ensemble import RandomForestClassifier\n",
    "\n",
    "rf = RandomForestClassifier(random_state=42, n_estimators=200, max_features = 'log2')"
   ]
  },
  {
   "cell_type": "code",
   "execution_count": 12,
   "metadata": {},
   "outputs": [
    {
     "data": {
      "text/plain": [
       "RandomForestClassifier(max_features='log2', n_estimators=200, random_state=42)"
      ]
     },
     "execution_count": 12,
     "metadata": {},
     "output_type": "execute_result"
    }
   ],
   "source": [
    "rf.fit(X_train, y_train)"
   ]
  },
  {
   "cell_type": "code",
   "execution_count": 13,
   "metadata": {},
   "outputs": [],
   "source": [
    "y_preds = rf.predict(X_test)"
   ]
  },
  {
   "cell_type": "code",
   "execution_count": 14,
   "metadata": {},
   "outputs": [],
   "source": [
    "accuracy_score_ = accuracy_score(y_test, y_preds)\n",
    "precision_score_ = precision_score(y_test, y_preds)\n",
    "recall_score_ = recall_score(y_test, y_preds)"
   ]
  },
  {
   "cell_type": "code",
   "execution_count": 15,
   "metadata": {},
   "outputs": [
    {
     "name": "stdout",
     "output_type": "stream",
     "text": [
      "Accuracy Score: 0.8722826086956522 Precision Score: 0.5714285714285714 Recall Score: 0.08333333333333333\n"
     ]
    }
   ],
   "source": [
    "print(f'Accuracy Score: {accuracy_score_}', f'Precision Score: {precision_score_}', f'Recall Score: {recall_score_}')"
   ]
  },
  {
   "cell_type": "code",
   "execution_count": 18,
   "metadata": {},
   "outputs": [
    {
     "name": "stdout",
     "output_type": "stream",
     "text": [
      "Area Under Curve: 0.5369791666666666\n"
     ]
    }
   ],
   "source": [
    "from sklearn.metrics import accuracy_score, confusion_matrix,roc_curve, roc_auc_score, precision_score, recall_score, precision_recall_curve\n",
    "\n",
    "print(f'Area Under Curve: {roc_auc_score(y_test, y_preds)}')\n"
   ]
  },
  {
   "cell_type": "code",
   "execution_count": 27,
   "metadata": {},
   "outputs": [],
   "source": [
    "def default_random_forest(n_estimators):\n",
    "    df = pd.read_csv(\"./data/clean_one_hot_data.csv\")\n",
    "    df.drop(df.columns[0], axis=1,inplace=True)\n",
    "    \n",
    "    y = df.pop('attrition').values\n",
    "    X = df.values\n",
    "    \n",
    "\n",
    "    X_train, X_test, y_train, y_test = train_test_split(X,y, random_state=42)\n",
    "    \n",
    "    scaler = StandardScaler()\n",
    "    scaler.fit(X_train)\n",
    "    rf = RandomForestClassifier(random_state=42, n_estimators=n_estimators)\n",
    "    rf.fit(X_train, y_train)\n",
    "    \n",
    "    y_preds = rf.predict(X_test)\n",
    "    \n",
    "    accuracy_score_ = accuracy_score(y_test, y_preds)\n",
    "    precision_score_ = precision_score(y_test, y_preds)\n",
    "    recall_score_ = recall_score(y_test, y_preds)\n",
    "    \n",
    "    return f'Accuracy Score: {accuracy_score_}', f'Precision Score: {precision_score_}', f'Recall Score: {recall_score_}', f'AUC Score: {roc_auc_score(y_test, y_preds)}'"
   ]
  },
  {
   "cell_type": "code",
   "execution_count": 24,
   "metadata": {},
   "outputs": [],
   "source": [
    "df = pd.read_csv(\"./data/clean_one_hot_data.csv\")\n",
    "df.drop(df.columns[0], axis=1,inplace=True)"
   ]
  },
  {
   "cell_type": "code",
   "execution_count": 25,
   "metadata": {},
   "outputs": [
    {
     "data": {
      "text/plain": [
       "('Accuracy Score: 0.8695652173913043',\n",
       " 'Precision Score: 0.5',\n",
       " 'Recall Score: 0.08333333333333333',\n",
       " 'AUC Score: 0.5354166666666667')"
      ]
     },
     "execution_count": 25,
     "metadata": {},
     "output_type": "execute_result"
    }
   ],
   "source": [
    "default_random_forest(df, 500)"
   ]
  },
  {
   "cell_type": "code",
   "execution_count": 28,
   "metadata": {},
   "outputs": [
    {
     "data": {
      "text/plain": [
       "('Accuracy Score: 0.8695652173913043',\n",
       " 'Precision Score: 0.5',\n",
       " 'Recall Score: 0.08333333333333333',\n",
       " 'AUC Score: 0.5354166666666667')"
      ]
     },
     "execution_count": 28,
     "metadata": {},
     "output_type": "execute_result"
    }
   ],
   "source": [
    "default_random_forest(1000)"
   ]
  },
  {
   "cell_type": "code",
   "execution_count": 29,
   "metadata": {},
   "outputs": [
    {
     "data": {
      "text/plain": [
       "('Accuracy Score: 0.8695652173913043',\n",
       " 'Precision Score: 0.5',\n",
       " 'Recall Score: 0.08333333333333333',\n",
       " 'AUC Score: 0.5354166666666667')"
      ]
     },
     "execution_count": 29,
     "metadata": {},
     "output_type": "execute_result"
    }
   ],
   "source": [
    "default_random_forest(2000)"
   ]
  },
  {
   "cell_type": "code",
   "execution_count": 30,
   "metadata": {},
   "outputs": [
    {
     "data": {
      "text/plain": [
       "('Accuracy Score: 0.8722826086956522',\n",
       " 'Precision Score: 0.5714285714285714',\n",
       " 'Recall Score: 0.08333333333333333',\n",
       " 'AUC Score: 0.5369791666666666')"
      ]
     },
     "execution_count": 30,
     "metadata": {},
     "output_type": "execute_result"
    }
   ],
   "source": [
    "default_random_forest(50)"
   ]
  },
  {
   "cell_type": "code",
   "execution_count": 31,
   "metadata": {},
   "outputs": [
    {
     "data": {
      "text/plain": [
       "('Accuracy Score: 0.8695652173913043',\n",
       " 'Precision Score: 0.5',\n",
       " 'Recall Score: 0.14583333333333334',\n",
       " 'AUC Score: 0.5619791666666666')"
      ]
     },
     "execution_count": 31,
     "metadata": {},
     "output_type": "execute_result"
    }
   ],
   "source": [
    "default_random_forest(25)"
   ]
  },
  {
   "cell_type": "code",
   "execution_count": 32,
   "metadata": {},
   "outputs": [
    {
     "data": {
      "text/plain": [
       "('Accuracy Score: 0.875',\n",
       " 'Precision Score: 0.6',\n",
       " 'Recall Score: 0.125',\n",
       " 'AUC Score: 0.55625')"
      ]
     },
     "execution_count": 32,
     "metadata": {},
     "output_type": "execute_result"
    }
   ],
   "source": [
    "default_random_forest(10)"
   ]
  },
  {
   "cell_type": "code",
   "execution_count": 33,
   "metadata": {},
   "outputs": [
    {
     "data": {
      "text/plain": [
       "('Accuracy Score: 0.8695652173913043',\n",
       " 'Precision Score: 0.5',\n",
       " 'Recall Score: 0.08333333333333333',\n",
       " 'AUC Score: 0.5354166666666667')"
      ]
     },
     "execution_count": 33,
     "metadata": {},
     "output_type": "execute_result"
    }
   ],
   "source": [
    "default_random_forest(250)"
   ]
  },
  {
   "cell_type": "code",
   "execution_count": 35,
   "metadata": {},
   "outputs": [],
   "source": [
    "df = pd.read_csv(\"./data/clean_one_hot_data.csv\")\n",
    "df.drop(df.columns[0], axis=1,inplace=True)\n",
    "\n",
    "y = df.pop('attrition').values\n",
    "X = df.values\n",
    "\n",
    "\n",
    "X_train, X_test, y_train, y_test = train_test_split(X,y, random_state=42)\n",
    "\n",
    "scaler = StandardScaler()\n",
    "scaler.fit(X_train)\n",
    "rf = RandomForestClassifier(random_state=42, n_estimators=25, max_features='sqrt')\n",
    "rf.fit(X_train, y_train)\n",
    "\n",
    "y_preds = rf.predict_proba(X_test)"
   ]
  },
  {
   "cell_type": "code",
   "execution_count": 36,
   "metadata": {},
   "outputs": [
    {
     "name": "stdout",
     "output_type": "stream",
     "text": [
      "[[0.92 0.08]\n",
      " [0.96 0.04]\n",
      " [0.52 0.48]\n",
      " [0.92 0.08]\n",
      " [0.88 0.12]\n",
      " [0.48 0.52]\n",
      " [0.76 0.24]\n",
      " [0.8  0.2 ]\n",
      " [0.92 0.08]\n",
      " [0.8  0.2 ]\n",
      " [0.6  0.4 ]\n",
      " [0.84 0.16]\n",
      " [0.84 0.16]\n",
      " [0.88 0.12]\n",
      " [0.92 0.08]\n",
      " [0.8  0.2 ]\n",
      " [0.64 0.36]\n",
      " [0.8  0.2 ]\n",
      " [0.76 0.24]\n",
      " [0.96 0.04]\n",
      " [0.88 0.12]\n",
      " [0.96 0.04]\n",
      " [1.   0.  ]\n",
      " [0.88 0.12]\n",
      " [0.96 0.04]\n",
      " [0.76 0.24]\n",
      " [0.72 0.28]\n",
      " [0.96 0.04]\n",
      " [0.8  0.2 ]\n",
      " [0.96 0.04]\n",
      " [0.88 0.12]\n",
      " [0.92 0.08]\n",
      " [1.   0.  ]\n",
      " [0.92 0.08]\n",
      " [0.84 0.16]\n",
      " [0.96 0.04]\n",
      " [1.   0.  ]\n",
      " [0.8  0.2 ]\n",
      " [0.64 0.36]\n",
      " [0.92 0.08]\n",
      " [0.8  0.2 ]\n",
      " [0.92 0.08]\n",
      " [0.96 0.04]\n",
      " [0.96 0.04]\n",
      " [0.28 0.72]\n",
      " [0.96 0.04]\n",
      " [0.52 0.48]\n",
      " [0.44 0.56]\n",
      " [0.96 0.04]\n",
      " [0.28 0.72]\n",
      " [0.96 0.04]\n",
      " [0.88 0.12]\n",
      " [0.68 0.32]\n",
      " [0.96 0.04]\n",
      " [0.92 0.08]\n",
      " [0.8  0.2 ]\n",
      " [0.84 0.16]\n",
      " [0.96 0.04]\n",
      " [0.88 0.12]\n",
      " [0.88 0.12]\n",
      " [0.88 0.12]\n",
      " [0.48 0.52]\n",
      " [0.76 0.24]\n",
      " [0.96 0.04]\n",
      " [0.76 0.24]\n",
      " [0.72 0.28]\n",
      " [1.   0.  ]\n",
      " [0.96 0.04]\n",
      " [0.96 0.04]\n",
      " [0.84 0.16]\n",
      " [0.96 0.04]\n",
      " [0.84 0.16]\n",
      " [0.88 0.12]\n",
      " [0.96 0.04]\n",
      " [0.8  0.2 ]\n",
      " [0.84 0.16]\n",
      " [1.   0.  ]\n",
      " [0.88 0.12]\n",
      " [0.84 0.16]\n",
      " [0.68 0.32]\n",
      " [1.   0.  ]\n",
      " [0.96 0.04]\n",
      " [0.96 0.04]\n",
      " [0.6  0.4 ]\n",
      " [0.96 0.04]\n",
      " [0.84 0.16]\n",
      " [0.76 0.24]\n",
      " [0.88 0.12]\n",
      " [0.92 0.08]\n",
      " [0.96 0.04]\n",
      " [1.   0.  ]\n",
      " [0.52 0.48]\n",
      " [0.84 0.16]\n",
      " [0.6  0.4 ]\n",
      " [0.96 0.04]\n",
      " [0.76 0.24]\n",
      " [0.96 0.04]\n",
      " [0.92 0.08]\n",
      " [0.88 0.12]\n",
      " [0.92 0.08]\n",
      " [0.68 0.32]\n",
      " [0.96 0.04]\n",
      " [0.96 0.04]\n",
      " [0.76 0.24]\n",
      " [0.92 0.08]\n",
      " [0.88 0.12]\n",
      " [0.92 0.08]\n",
      " [0.72 0.28]\n",
      " [0.92 0.08]\n",
      " [0.96 0.04]\n",
      " [0.64 0.36]\n",
      " [0.76 0.24]\n",
      " [0.96 0.04]\n",
      " [1.   0.  ]\n",
      " [0.44 0.56]\n",
      " [0.92 0.08]\n",
      " [0.84 0.16]\n",
      " [0.68 0.32]\n",
      " [0.92 0.08]\n",
      " [0.88 0.12]\n",
      " [0.76 0.24]\n",
      " [0.96 0.04]\n",
      " [0.88 0.12]\n",
      " [1.   0.  ]\n",
      " [0.52 0.48]\n",
      " [0.36 0.64]\n",
      " [0.88 0.12]\n",
      " [0.76 0.24]\n",
      " [0.96 0.04]\n",
      " [0.92 0.08]\n",
      " [0.96 0.04]\n",
      " [0.48 0.52]\n",
      " [0.84 0.16]\n",
      " [0.96 0.04]\n",
      " [0.92 0.08]\n",
      " [0.92 0.08]\n",
      " [0.44 0.56]\n",
      " [0.44 0.56]\n",
      " [0.6  0.4 ]\n",
      " [1.   0.  ]\n",
      " [0.56 0.44]\n",
      " [0.84 0.16]\n",
      " [0.88 0.12]\n",
      " [0.84 0.16]\n",
      " [0.96 0.04]\n",
      " [0.84 0.16]\n",
      " [0.84 0.16]\n",
      " [0.72 0.28]\n",
      " [0.76 0.24]\n",
      " [0.8  0.2 ]\n",
      " [1.   0.  ]\n",
      " [0.96 0.04]\n",
      " [0.96 0.04]\n",
      " [0.76 0.24]\n",
      " [0.76 0.24]\n",
      " [0.96 0.04]\n",
      " [0.92 0.08]\n",
      " [0.84 0.16]\n",
      " [0.88 0.12]\n",
      " [0.8  0.2 ]\n",
      " [0.96 0.04]\n",
      " [0.88 0.12]\n",
      " [0.96 0.04]\n",
      " [0.88 0.12]\n",
      " [0.96 0.04]\n",
      " [0.64 0.36]\n",
      " [0.76 0.24]\n",
      " [0.96 0.04]\n",
      " [0.8  0.2 ]\n",
      " [1.   0.  ]\n",
      " [0.96 0.04]\n",
      " [0.84 0.16]\n",
      " [0.8  0.2 ]\n",
      " [0.76 0.24]\n",
      " [0.92 0.08]\n",
      " [0.68 0.32]\n",
      " [0.92 0.08]\n",
      " [0.92 0.08]\n",
      " [0.8  0.2 ]\n",
      " [0.76 0.24]\n",
      " [0.92 0.08]\n",
      " [0.8  0.2 ]\n",
      " [0.84 0.16]\n",
      " [0.92 0.08]\n",
      " [1.   0.  ]\n",
      " [0.64 0.36]\n",
      " [0.84 0.16]\n",
      " [0.8  0.2 ]\n",
      " [0.96 0.04]\n",
      " [1.   0.  ]\n",
      " [1.   0.  ]\n",
      " [0.76 0.24]\n",
      " [0.8  0.2 ]\n",
      " [0.88 0.12]\n",
      " [0.84 0.16]\n",
      " [0.64 0.36]\n",
      " [0.6  0.4 ]\n",
      " [1.   0.  ]\n",
      " [0.96 0.04]\n",
      " [0.92 0.08]\n",
      " [0.6  0.4 ]\n",
      " [0.96 0.04]\n",
      " [0.72 0.28]\n",
      " [1.   0.  ]\n",
      " [1.   0.  ]\n",
      " [0.72 0.28]\n",
      " [0.96 0.04]\n",
      " [0.92 0.08]\n",
      " [0.88 0.12]\n",
      " [0.88 0.12]\n",
      " [0.96 0.04]\n",
      " [0.68 0.32]\n",
      " [0.96 0.04]\n",
      " [0.48 0.52]\n",
      " [0.8  0.2 ]\n",
      " [0.96 0.04]\n",
      " [0.8  0.2 ]\n",
      " [0.92 0.08]\n",
      " [0.76 0.24]\n",
      " [1.   0.  ]\n",
      " [0.72 0.28]\n",
      " [0.96 0.04]\n",
      " [0.92 0.08]\n",
      " [0.68 0.32]\n",
      " [0.92 0.08]\n",
      " [0.6  0.4 ]\n",
      " [0.92 0.08]\n",
      " [0.96 0.04]\n",
      " [0.92 0.08]\n",
      " [0.84 0.16]\n",
      " [0.76 0.24]\n",
      " [0.84 0.16]\n",
      " [0.8  0.2 ]\n",
      " [0.84 0.16]\n",
      " [0.64 0.36]\n",
      " [0.96 0.04]\n",
      " [0.92 0.08]\n",
      " [0.8  0.2 ]\n",
      " [0.88 0.12]\n",
      " [0.92 0.08]\n",
      " [0.72 0.28]\n",
      " [0.96 0.04]\n",
      " [0.8  0.2 ]\n",
      " [1.   0.  ]\n",
      " [1.   0.  ]\n",
      " [0.76 0.24]\n",
      " [0.96 0.04]\n",
      " [0.92 0.08]\n",
      " [0.88 0.12]\n",
      " [0.96 0.04]\n",
      " [0.76 0.24]\n",
      " [0.92 0.08]\n",
      " [0.52 0.48]\n",
      " [0.96 0.04]\n",
      " [0.84 0.16]\n",
      " [0.96 0.04]\n",
      " [0.8  0.2 ]\n",
      " [0.68 0.32]\n",
      " [0.64 0.36]\n",
      " [1.   0.  ]\n",
      " [0.88 0.12]\n",
      " [0.88 0.12]\n",
      " [0.76 0.24]\n",
      " [0.76 0.24]\n",
      " [0.96 0.04]\n",
      " [1.   0.  ]\n",
      " [0.88 0.12]\n",
      " [0.8  0.2 ]\n",
      " [0.8  0.2 ]\n",
      " [0.96 0.04]\n",
      " [0.88 0.12]\n",
      " [0.96 0.04]\n",
      " [0.96 0.04]\n",
      " [0.76 0.24]\n",
      " [0.68 0.32]\n",
      " [0.88 0.12]\n",
      " [0.96 0.04]\n",
      " [0.8  0.2 ]\n",
      " [1.   0.  ]\n",
      " [1.   0.  ]\n",
      " [0.92 0.08]\n",
      " [0.76 0.24]\n",
      " [0.76 0.24]\n",
      " [0.96 0.04]\n",
      " [0.76 0.24]\n",
      " [0.88 0.12]\n",
      " [0.84 0.16]\n",
      " [0.72 0.28]\n",
      " [0.96 0.04]\n",
      " [1.   0.  ]\n",
      " [0.8  0.2 ]\n",
      " [0.88 0.12]\n",
      " [0.68 0.32]\n",
      " [0.96 0.04]\n",
      " [0.48 0.52]\n",
      " [0.44 0.56]\n",
      " [0.92 0.08]\n",
      " [0.88 0.12]\n",
      " [0.88 0.12]\n",
      " [0.84 0.16]\n",
      " [0.96 0.04]\n",
      " [0.72 0.28]\n",
      " [0.52 0.48]\n",
      " [0.68 0.32]\n",
      " [0.8  0.2 ]\n",
      " [0.8  0.2 ]\n",
      " [0.6  0.4 ]\n",
      " [1.   0.  ]\n",
      " [0.96 0.04]\n",
      " [0.48 0.52]\n",
      " [0.56 0.44]\n",
      " [0.96 0.04]\n",
      " [1.   0.  ]\n",
      " [0.8  0.2 ]\n",
      " [0.88 0.12]\n",
      " [0.96 0.04]\n",
      " [1.   0.  ]\n",
      " [0.96 0.04]\n",
      " [0.92 0.08]\n",
      " [0.84 0.16]\n",
      " [1.   0.  ]\n",
      " [0.96 0.04]\n",
      " [0.88 0.12]\n",
      " [1.   0.  ]\n",
      " [1.   0.  ]\n",
      " [1.   0.  ]\n",
      " [1.   0.  ]\n",
      " [0.88 0.12]\n",
      " [1.   0.  ]\n",
      " [0.96 0.04]\n",
      " [1.   0.  ]\n",
      " [0.8  0.2 ]\n",
      " [1.   0.  ]\n",
      " [0.92 0.08]\n",
      " [0.92 0.08]\n",
      " [0.72 0.28]\n",
      " [0.96 0.04]\n",
      " [1.   0.  ]\n",
      " [0.84 0.16]\n",
      " [0.92 0.08]\n",
      " [0.84 0.16]\n",
      " [0.76 0.24]\n",
      " [0.8  0.2 ]\n",
      " [1.   0.  ]\n",
      " [0.6  0.4 ]\n",
      " [0.92 0.08]\n",
      " [0.8  0.2 ]\n",
      " [0.84 0.16]\n",
      " [0.84 0.16]\n",
      " [0.88 0.12]\n",
      " [0.84 0.16]\n",
      " [0.72 0.28]\n",
      " [0.88 0.12]\n",
      " [0.96 0.04]\n",
      " [0.92 0.08]\n",
      " [1.   0.  ]\n",
      " [0.96 0.04]\n",
      " [0.68 0.32]\n",
      " [1.   0.  ]\n",
      " [0.92 0.08]\n",
      " [0.68 0.32]\n",
      " [0.64 0.36]\n",
      " [0.56 0.44]\n",
      " [0.64 0.36]\n",
      " [0.92 0.08]\n",
      " [0.96 0.04]\n",
      " [0.76 0.24]\n",
      " [0.92 0.08]]\n"
     ]
    }
   ],
   "source": [
    "print(y_preds)"
   ]
  },
  {
   "cell_type": "code",
   "execution_count": 45,
   "metadata": {},
   "outputs": [],
   "source": [
    "# The results below are for n_estimators = 25, and max_features = 'auto'\n",
    "threshold = 0.3\n",
    "preds = np.where(rf.predict_proba(X_test)[:,1] > threshold, 1, 0)"
   ]
  },
  {
   "cell_type": "code",
   "execution_count": 39,
   "metadata": {},
   "outputs": [
    {
     "name": "stdout",
     "output_type": "stream",
     "text": [
      "                      0\n",
      "accuracy       0.817935\n",
      "recall         0.375000\n",
      "precision      0.327273\n",
      "roc_auc_score  0.629688\n"
     ]
    }
   ],
   "source": [
    "from sklearn.metrics import accuracy_score, confusion_matrix, recall_score, roc_auc_score, precision_score\n",
    "\n",
    "df1 = pd.DataFrame(data=[accuracy_score(y_test, preds), recall_score(y_test, preds),\n",
    "                   precision_score(y_test, preds), roc_auc_score(y_test, preds)], \n",
    "             index=[\"accuracy\", \"recall\", \"precision\", \"roc_auc_score\"])\n",
    "\n",
    "print(df1)"
   ]
  },
  {
   "cell_type": "code",
   "execution_count": 40,
   "metadata": {},
   "outputs": [
    {
     "name": "stdout",
     "output_type": "stream",
     "text": [
      "                      0\n",
      "accuracy       0.866848\n",
      "recall         0.229167\n",
      "precision      0.478261\n",
      "roc_auc_score  0.595833\n"
     ]
    }
   ],
   "source": [
    "threshold = 0.4\n",
    "preds = np.where(rf.predict_proba(X_test)[:,1] > threshold, 1, 0)\n",
    "\n",
    "df2 = pd.DataFrame(data=[accuracy_score(y_test, preds), recall_score(y_test, preds),\n",
    "                   precision_score(y_test, preds), roc_auc_score(y_test, preds)], \n",
    "             index=[\"accuracy\", \"recall\", \"precision\", \"roc_auc_score\"])\n",
    "\n",
    "print(df2)"
   ]
  },
  {
   "cell_type": "code",
   "execution_count": 42,
   "metadata": {},
   "outputs": [
    {
     "name": "stdout",
     "output_type": "stream",
     "text": [
      "                      0\n",
      "accuracy       0.758152\n",
      "recall         0.583333\n",
      "precision      0.288660\n",
      "roc_auc_score  0.683854\n"
     ]
    }
   ],
   "source": [
    "threshold = 0.2\n",
    "preds = np.where(rf.predict_proba(X_test)[:,1] > threshold, 1, 0)\n",
    "\n",
    "df3 = pd.DataFrame(data=[accuracy_score(y_test, preds), recall_score(y_test, preds),\n",
    "                   precision_score(y_test, preds), roc_auc_score(y_test, preds)], \n",
    "             index=[\"accuracy\", \"recall\", \"precision\", \"roc_auc_score\"])\n",
    "\n",
    "print(df3)"
   ]
  },
  {
   "cell_type": "code",
   "execution_count": 43,
   "metadata": {},
   "outputs": [
    {
     "name": "stdout",
     "output_type": "stream",
     "text": [
      "                      0\n",
      "accuracy       0.627717\n",
      "recall         0.770833\n",
      "precision      0.226994\n",
      "roc_auc_score  0.688542\n"
     ]
    }
   ],
   "source": [
    "threshold = 0.15\n",
    "preds = np.where(rf.predict_proba(X_test)[:,1] > threshold, 1, 0)\n",
    "\n",
    "df4 = pd.DataFrame(data=[accuracy_score(y_test, preds), recall_score(y_test, preds),\n",
    "                   precision_score(y_test, preds), roc_auc_score(y_test, preds)], \n",
    "             index=[\"accuracy\", \"recall\", \"precision\", \"roc_auc_score\"])\n",
    "\n",
    "print(df4)"
   ]
  },
  {
   "cell_type": "code",
   "execution_count": 44,
   "metadata": {},
   "outputs": [
    {
     "name": "stdout",
     "output_type": "stream",
     "text": [
      "                      0\n",
      "accuracy       0.529891\n",
      "recall         0.812500\n",
      "precision      0.192118\n",
      "roc_auc_score  0.650000\n"
     ]
    }
   ],
   "source": [
    "threshold = 0.10\n",
    "preds = np.where(rf.predict_proba(X_test)[:,1] > threshold, 1, 0)\n",
    "\n",
    "df5 = pd.DataFrame(data=[accuracy_score(y_test, preds), recall_score(y_test, preds),\n",
    "                   precision_score(y_test, preds), roc_auc_score(y_test, preds)], \n",
    "             index=[\"accuracy\", \"recall\", \"precision\", \"roc_auc_score\"])\n",
    "\n",
    "print(df5)"
   ]
  },
  {
   "cell_type": "code",
   "execution_count": 46,
   "metadata": {},
   "outputs": [
    {
     "name": "stdout",
     "output_type": "stream",
     "text": [
      "                      0\n",
      "accuracy       0.399457\n",
      "recall         0.812500\n",
      "precision      0.155378\n",
      "roc_auc_score  0.575000\n"
     ]
    }
   ],
   "source": [
    "threshold = 0.05\n",
    "preds = np.where(rf.predict_proba(X_test)[:,1] > threshold, 1, 0)\n",
    "\n",
    "df6 = pd.DataFrame(data=[accuracy_score(y_test, preds), recall_score(y_test, preds),\n",
    "                   precision_score(y_test, preds), roc_auc_score(y_test, preds)], \n",
    "             index=[\"accuracy\", \"recall\", \"precision\", \"roc_auc_score\"])\n",
    "\n",
    "print(df6)"
   ]
  },
  {
   "cell_type": "code",
   "execution_count": 47,
   "metadata": {},
   "outputs": [],
   "source": [
    "df = pd.read_csv(\"./data/clean_one_hot_data.csv\")\n",
    "df.drop(df.columns[0], axis=1,inplace=True)\n",
    "\n",
    "y = df.pop('attrition').values\n",
    "X = df.values\n",
    "\n",
    "\n",
    "X_train, X_test, y_train, y_test = train_test_split(X,y, random_state=42)\n",
    "\n",
    "scaler = StandardScaler()\n",
    "scaler.fit(X_train)\n",
    "rf = RandomForestClassifier(random_state=42, max_depth = 25, \n",
    "                            max_features = 20, min_samples_split= 3, \n",
    "                            n_estimators= 100)\n",
    "rf.fit(X_train, y_train)\n",
    "\n",
    "y_preds = rf.predict_proba(X_test)"
   ]
  },
  {
   "cell_type": "code",
   "execution_count": 48,
   "metadata": {},
   "outputs": [
    {
     "name": "stdout",
     "output_type": "stream",
     "text": [
      "                      0\n",
      "accuracy       0.663043\n",
      "recall         0.708333\n",
      "precision      0.236111\n",
      "roc_auc_score  0.682292\n"
     ]
    }
   ],
   "source": [
    "threshold = 0.15\n",
    "preds = np.where(rf.predict_proba(X_test)[:,1] > threshold, 1, 0)\n",
    "\n",
    "df4_optimal = pd.DataFrame(data=[accuracy_score(y_test, preds), recall_score(y_test, preds),\n",
    "                   precision_score(y_test, preds), roc_auc_score(y_test, preds)], \n",
    "             index=[\"accuracy\", \"recall\", \"precision\", \"roc_auc_score\"])\n",
    "\n",
    "print(df4_optimal)"
   ]
  },
  {
   "cell_type": "code",
   "execution_count": null,
   "metadata": {},
   "outputs": [],
   "source": []
  }
 ],
 "metadata": {
  "kernelspec": {
   "display_name": "Python 3",
   "language": "python",
   "name": "python3"
  },
  "language_info": {
   "codemirror_mode": {
    "name": "ipython",
    "version": 3
   },
   "file_extension": ".py",
   "mimetype": "text/x-python",
   "name": "python",
   "nbconvert_exporter": "python",
   "pygments_lexer": "ipython3",
   "version": "3.7.9"
  }
 },
 "nbformat": 4,
 "nbformat_minor": 4
}
